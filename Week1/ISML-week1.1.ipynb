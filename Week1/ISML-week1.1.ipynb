{
 "cells": [
  {
   "cell_type": "markdown",
   "metadata": {},
   "source": [
    "![alt-text](img/LP-School-Of-AI-black.png)"
   ]
  },
  {
   "cell_type": "markdown",
   "metadata": {},
   "source": [
    "# Introducción a Statistical Machine Learning\n",
    "## Semana I: Python para Machine Learning y Ciencia de datos \n",
    "por: [Marco Antonio Vino](https://www.linkedin.com/in/mavino)\n",
    "### 1.1 Primeros pasos con Numpy\n"
   ]
  },
  {
   "cell_type": "markdown",
   "metadata": {},
   "source": [
    "![alt-text](img/numpy.png)"
   ]
  },
  {
   "cell_type": "markdown",
   "metadata": {},
   "source": [
    "* Libreria especializada en el computo n-dimensional\n"
   ]
  },
  {
   "cell_type": "markdown",
   "metadata": {},
   "source": [
    "La forma de importar librerias externas y asignar alias:"
   ]
  },
  {
   "cell_type": "code",
   "execution_count": 5,
   "metadata": {},
   "outputs": [],
   "source": [
    "import random\n",
    "import numpy as np"
   ]
  },
  {
   "cell_type": "markdown",
   "metadata": {},
   "source": [
    "comparando la eficiencia de los arrays de NumPy"
   ]
  },
  {
   "cell_type": "code",
   "execution_count": 44,
   "metadata": {},
   "outputs": [],
   "source": [
    "a = np.random.randint(0,100,10**5) #generando aleatorios"
   ]
  },
  {
   "cell_type": "code",
   "execution_count": 43,
   "metadata": {},
   "outputs": [
    {
     "data": {
      "text/plain": [
       "array([64, 38, 75, ..., 47, 69, 38])"
      ]
     },
     "execution_count": 43,
     "metadata": {},
     "output_type": "execute_result"
    }
   ],
   "source": [
    "a"
   ]
  },
  {
   "cell_type": "code",
   "execution_count": 27,
   "metadata": {},
   "outputs": [
    {
     "data": {
      "text/plain": [
       "numpy.ndarray"
      ]
     },
     "execution_count": 27,
     "metadata": {},
     "output_type": "execute_result"
    }
   ],
   "source": [
    "type(a)"
   ]
  },
  {
   "cell_type": "code",
   "execution_count": 28,
   "metadata": {},
   "outputs": [
    {
     "data": {
      "text/plain": [
       "[14,\n",
       " 68,\n",
       " 60,\n",
       " 90,\n",
       " 20,\n",
       " 16,\n",
       " 90,\n",
       " 40,\n",
       " 8,\n",
       " 94,\n",
       " 92,\n",
       " 55,\n",
       " 60,\n",
       " 69,\n",
       " 71,\n",
       " 63,\n",
       " 97,\n",
       " 99,\n",
       " 72,\n",
       " 32,\n",
       " 45,\n",
       " 41,\n",
       " 5,\n",
       " 74,\n",
       " 70,\n",
       " 32,\n",
       " 56,\n",
       " 15,\n",
       " 31,\n",
       " 13,\n",
       " 97,\n",
       " 56,\n",
       " 89,\n",
       " 31,\n",
       " 44,\n",
       " 4,\n",
       " 61,\n",
       " 84,\n",
       " 8,\n",
       " 73,\n",
       " 12,\n",
       " 13,\n",
       " 85,\n",
       " 36,\n",
       " 78,\n",
       " 24,\n",
       " 36,\n",
       " 84,\n",
       " 1,\n",
       " 46,\n",
       " 6,\n",
       " 76,\n",
       " 68,\n",
       " 98,\n",
       " 73,\n",
       " 70,\n",
       " 58,\n",
       " 84,\n",
       " 15,\n",
       " 63,\n",
       " 24,\n",
       " 7,\n",
       " 0,\n",
       " 32,\n",
       " 85,\n",
       " 41,\n",
       " 9,\n",
       " 89,\n",
       " 92,\n",
       " 30,\n",
       " 65,\n",
       " 97,\n",
       " 77,\n",
       " 3,\n",
       " 19,\n",
       " 14,\n",
       " 1,\n",
       " 50,\n",
       " 42,\n",
       " 10,\n",
       " 70,\n",
       " 15,\n",
       " 53,\n",
       " 75,\n",
       " 10,\n",
       " 35,\n",
       " 65,\n",
       " 3,\n",
       " 86,\n",
       " 97,\n",
       " 85,\n",
       " 19,\n",
       " 19,\n",
       " 73,\n",
       " 14,\n",
       " 42,\n",
       " 29,\n",
       " 99,\n",
       " 59,\n",
       " 71,\n",
       " 77,\n",
       " 69,\n",
       " 70,\n",
       " 63,\n",
       " 87,\n",
       " 71,\n",
       " 8,\n",
       " 1,\n",
       " 97,\n",
       " 71,\n",
       " 12,\n",
       " 16,\n",
       " 50,\n",
       " 77,\n",
       " 67,\n",
       " 44,\n",
       " 9,\n",
       " 98,\n",
       " 86,\n",
       " 89,\n",
       " 12,\n",
       " 49,\n",
       " 13,\n",
       " 14,\n",
       " 22,\n",
       " 97,\n",
       " 12,\n",
       " 36,\n",
       " 58,\n",
       " 95,\n",
       " 90,\n",
       " 62,\n",
       " 94,\n",
       " 3,\n",
       " 70,\n",
       " 97,\n",
       " 70,\n",
       " 43,\n",
       " 93,\n",
       " 17,\n",
       " 42,\n",
       " 89,\n",
       " 0,\n",
       " 43,\n",
       " 4,\n",
       " 52,\n",
       " 44,\n",
       " 32,\n",
       " 25,\n",
       " 85,\n",
       " 8,\n",
       " 50,\n",
       " 34,\n",
       " 84,\n",
       " 16,\n",
       " 38,\n",
       " 20,\n",
       " 84,\n",
       " 57,\n",
       " 37,\n",
       " 68,\n",
       " 94,\n",
       " 11,\n",
       " 14,\n",
       " 6,\n",
       " 36,\n",
       " 67,\n",
       " 28,\n",
       " 90,\n",
       " 86,\n",
       " 73,\n",
       " 18,\n",
       " 96,\n",
       " 98,\n",
       " 73,\n",
       " 92,\n",
       " 2,\n",
       " 67,\n",
       " 81,\n",
       " 59,\n",
       " 60,\n",
       " 88,\n",
       " 45,\n",
       " 79,\n",
       " 23,\n",
       " 33,\n",
       " 71,\n",
       " 96,\n",
       " 88,\n",
       " 18,\n",
       " 83,\n",
       " 35,\n",
       " 81,\n",
       " 79,\n",
       " 58,\n",
       " 36,\n",
       " 58,\n",
       " 75,\n",
       " 43,\n",
       " 30,\n",
       " 57,\n",
       " 48,\n",
       " 39,\n",
       " 91,\n",
       " 26,\n",
       " 62,\n",
       " 55,\n",
       " 69,\n",
       " 35,\n",
       " 15,\n",
       " 52,\n",
       " 66,\n",
       " 60,\n",
       " 13,\n",
       " 81,\n",
       " 48,\n",
       " 66,\n",
       " 30,\n",
       " 3,\n",
       " 26,\n",
       " 9,\n",
       " 59,\n",
       " 25,\n",
       " 18,\n",
       " 29,\n",
       " 69,\n",
       " 56,\n",
       " 3,\n",
       " 46,\n",
       " 76,\n",
       " 20,\n",
       " 15,\n",
       " 57,\n",
       " 7,\n",
       " 6,\n",
       " 51,\n",
       " 66,\n",
       " 16,\n",
       " 10,\n",
       " 67,\n",
       " 68,\n",
       " 68,\n",
       " 95,\n",
       " 68,\n",
       " 65,\n",
       " 4,\n",
       " 79,\n",
       " 39,\n",
       " 31,\n",
       " 58,\n",
       " 4,\n",
       " 24,\n",
       " 42,\n",
       " 49,\n",
       " 50,\n",
       " 80,\n",
       " 19,\n",
       " 68,\n",
       " 80,\n",
       " 69,\n",
       " 15,\n",
       " 87,\n",
       " 49,\n",
       " 19,\n",
       " 34,\n",
       " 80,\n",
       " 33,\n",
       " 7,\n",
       " 60,\n",
       " 56,\n",
       " 84,\n",
       " 19,\n",
       " 33,\n",
       " 8,\n",
       " 25,\n",
       " 69,\n",
       " 38,\n",
       " 12,\n",
       " 4,\n",
       " 37,\n",
       " 68,\n",
       " 36,\n",
       " 48,\n",
       " 61,\n",
       " 65,\n",
       " 4,\n",
       " 16,\n",
       " 86,\n",
       " 16,\n",
       " 89,\n",
       " 82,\n",
       " 1,\n",
       " 13,\n",
       " 48,\n",
       " 9,\n",
       " 0,\n",
       " 27,\n",
       " 14,\n",
       " 53,\n",
       " 7,\n",
       " 53,\n",
       " 14,\n",
       " 4,\n",
       " 43,\n",
       " 94,\n",
       " 4,\n",
       " 63,\n",
       " 23,\n",
       " 98,\n",
       " 8,\n",
       " 41,\n",
       " 53,\n",
       " 57,\n",
       " 83,\n",
       " 5,\n",
       " 93,\n",
       " 64,\n",
       " 3,\n",
       " 33,\n",
       " 53,\n",
       " 46,\n",
       " 86,\n",
       " 79,\n",
       " 35,\n",
       " 5,\n",
       " 47,\n",
       " 43,\n",
       " 70,\n",
       " 48,\n",
       " 2,\n",
       " 5,\n",
       " 45,\n",
       " 9,\n",
       " 99,\n",
       " 54,\n",
       " 81,\n",
       " 49,\n",
       " 32,\n",
       " 7,\n",
       " 78,\n",
       " 20,\n",
       " 63,\n",
       " 98,\n",
       " 40,\n",
       " 19,\n",
       " 76,\n",
       " 93,\n",
       " 47,\n",
       " 69,\n",
       " 28,\n",
       " 70,\n",
       " 24,\n",
       " 89,\n",
       " 53,\n",
       " 51,\n",
       " 9,\n",
       " 51,\n",
       " 17,\n",
       " 34,\n",
       " 25,\n",
       " 39,\n",
       " 81,\n",
       " 20,\n",
       " 33,\n",
       " 78,\n",
       " 88,\n",
       " 49,\n",
       " 48,\n",
       " 83,\n",
       " 44,\n",
       " 0,\n",
       " 51,\n",
       " 45,\n",
       " 88,\n",
       " 14,\n",
       " 26,\n",
       " 20,\n",
       " 70,\n",
       " 75,\n",
       " 50,\n",
       " 90,\n",
       " 48,\n",
       " 82,\n",
       " 99,\n",
       " 50,\n",
       " 48,\n",
       " 88,\n",
       " 92,\n",
       " 17,\n",
       " 72,\n",
       " 43,\n",
       " 45,\n",
       " 54,\n",
       " 26,\n",
       " 75,\n",
       " 65,\n",
       " 61,\n",
       " 27,\n",
       " 73,\n",
       " 58,\n",
       " 43,\n",
       " 57,\n",
       " 73,\n",
       " 81,\n",
       " 95,\n",
       " 73,\n",
       " 39,\n",
       " 68,\n",
       " 26,\n",
       " 77,\n",
       " 17,\n",
       " 73,\n",
       " 97,\n",
       " 24,\n",
       " 43,\n",
       " 84,\n",
       " 39,\n",
       " 4,\n",
       " 83,\n",
       " 74,\n",
       " 68,\n",
       " 92,\n",
       " 99,\n",
       " 26,\n",
       " 46,\n",
       " 56,\n",
       " 54,\n",
       " 58,\n",
       " 9,\n",
       " 57,\n",
       " 86,\n",
       " 48,\n",
       " 70,\n",
       " 17,\n",
       " 89,\n",
       " 79,\n",
       " 42,\n",
       " 43,\n",
       " 17,\n",
       " 60,\n",
       " 40,\n",
       " 4,\n",
       " 73,\n",
       " 61,\n",
       " 21,\n",
       " 53,\n",
       " 64,\n",
       " 1,\n",
       " 79,\n",
       " 55,\n",
       " 5,\n",
       " 24,\n",
       " 18,\n",
       " 28,\n",
       " 20,\n",
       " 1,\n",
       " 5,\n",
       " 74,\n",
       " 96,\n",
       " 92,\n",
       " 66,\n",
       " 91,\n",
       " 77,\n",
       " 51,\n",
       " 74,\n",
       " 47,\n",
       " 13,\n",
       " 94,\n",
       " 27,\n",
       " 70,\n",
       " 91,\n",
       " 61,\n",
       " 27,\n",
       " 79,\n",
       " 36,\n",
       " 43,\n",
       " 85,\n",
       " 95,\n",
       " 87,\n",
       " 43,\n",
       " 24,\n",
       " 80,\n",
       " 84,\n",
       " 4,\n",
       " 99,\n",
       " 63,\n",
       " 20,\n",
       " 11,\n",
       " 81,\n",
       " 48,\n",
       " 58,\n",
       " 85,\n",
       " 59,\n",
       " 79,\n",
       " 34,\n",
       " 11,\n",
       " 28,\n",
       " 17,\n",
       " 98,\n",
       " 47,\n",
       " 7,\n",
       " 27,\n",
       " 61,\n",
       " 27,\n",
       " 11,\n",
       " 90,\n",
       " 76,\n",
       " 4,\n",
       " 77,\n",
       " 18,\n",
       " 27,\n",
       " 68,\n",
       " 39,\n",
       " 9,\n",
       " 92,\n",
       " 34,\n",
       " 78,\n",
       " 14,\n",
       " 68,\n",
       " 53,\n",
       " 66,\n",
       " 68,\n",
       " 63,\n",
       " 86,\n",
       " 39,\n",
       " 78,\n",
       " 58,\n",
       " 71,\n",
       " 73,\n",
       " 71,\n",
       " 75,\n",
       " 70,\n",
       " 45,\n",
       " 93,\n",
       " 42,\n",
       " 90,\n",
       " 75,\n",
       " 85,\n",
       " 40,\n",
       " 45,\n",
       " 27,\n",
       " 61,\n",
       " 78,\n",
       " 41,\n",
       " 40,\n",
       " 95,\n",
       " 9,\n",
       " 27,\n",
       " 96,\n",
       " 60,\n",
       " 39,\n",
       " 65,\n",
       " 24,\n",
       " 92,\n",
       " 62,\n",
       " 27,\n",
       " 68,\n",
       " 97,\n",
       " 63,\n",
       " 2,\n",
       " 41,\n",
       " 18,\n",
       " 10,\n",
       " 0,\n",
       " 81,\n",
       " 43,\n",
       " 12,\n",
       " 64,\n",
       " 76,\n",
       " 33,\n",
       " 21,\n",
       " 59,\n",
       " 49,\n",
       " 97,\n",
       " 37,\n",
       " 42,\n",
       " 35,\n",
       " 50,\n",
       " 91,\n",
       " 38,\n",
       " 67,\n",
       " 60,\n",
       " 32,\n",
       " 86,\n",
       " 27,\n",
       " 30,\n",
       " 98,\n",
       " 43,\n",
       " 46,\n",
       " 39,\n",
       " 78,\n",
       " 40,\n",
       " 54,\n",
       " 48,\n",
       " 24,\n",
       " 44,\n",
       " 15,\n",
       " 39,\n",
       " 33,\n",
       " 40,\n",
       " 90,\n",
       " 65,\n",
       " 36,\n",
       " 37,\n",
       " 68,\n",
       " 1,\n",
       " 0,\n",
       " 0,\n",
       " 32,\n",
       " 17,\n",
       " 38,\n",
       " 73,\n",
       " 97,\n",
       " 98,\n",
       " 3,\n",
       " 22,\n",
       " 85,\n",
       " 72,\n",
       " 69,\n",
       " 68,\n",
       " 43,\n",
       " 61,\n",
       " 54,\n",
       " 93,\n",
       " 30,\n",
       " 30,\n",
       " 40,\n",
       " 67,\n",
       " 59,\n",
       " 12,\n",
       " 91,\n",
       " 66,\n",
       " 25,\n",
       " 12,\n",
       " 73,\n",
       " 16,\n",
       " 72,\n",
       " 7,\n",
       " 98,\n",
       " 0,\n",
       " 89,\n",
       " 14,\n",
       " 49,\n",
       " 68,\n",
       " 48,\n",
       " 70,\n",
       " 81,\n",
       " 58,\n",
       " 83,\n",
       " 25,\n",
       " 90,\n",
       " 8,\n",
       " 92,\n",
       " 44,\n",
       " 6,\n",
       " 87,\n",
       " 85,\n",
       " 16,\n",
       " 88,\n",
       " 38,\n",
       " 46,\n",
       " 69,\n",
       " 79,\n",
       " 26,\n",
       " 68,\n",
       " 19,\n",
       " 15,\n",
       " 33,\n",
       " 14,\n",
       " 45,\n",
       " 47,\n",
       " 19,\n",
       " 33,\n",
       " 9,\n",
       " 45,\n",
       " 99,\n",
       " 20,\n",
       " 94,\n",
       " 82,\n",
       " 92,\n",
       " 29,\n",
       " 32,\n",
       " 98,\n",
       " 42,\n",
       " 99,\n",
       " 38,\n",
       " 63,\n",
       " 41,\n",
       " 29,\n",
       " 52,\n",
       " 89,\n",
       " 18,\n",
       " 64,\n",
       " 2,\n",
       " 85,\n",
       " 61,\n",
       " 87,\n",
       " 11,\n",
       " 78,\n",
       " 54,\n",
       " 17,\n",
       " 32,\n",
       " 9,\n",
       " 4,\n",
       " 24,\n",
       " 11,\n",
       " 67,\n",
       " 73,\n",
       " 95,\n",
       " 89,\n",
       " 19,\n",
       " 15,\n",
       " 19,\n",
       " 30,\n",
       " 5,\n",
       " 43,\n",
       " 48,\n",
       " 52,\n",
       " 54,\n",
       " 2,\n",
       " 34,\n",
       " 42,\n",
       " 74,\n",
       " 18,\n",
       " 33,\n",
       " 58,\n",
       " 78,\n",
       " 68,\n",
       " 61,\n",
       " 41,\n",
       " 37,\n",
       " 65,\n",
       " 75,\n",
       " 50,\n",
       " 6,\n",
       " 42,\n",
       " 94,\n",
       " 28,\n",
       " 41,\n",
       " 52,\n",
       " 60,\n",
       " 12,\n",
       " 37,\n",
       " 98,\n",
       " 79,\n",
       " 59,\n",
       " 44,\n",
       " 13,\n",
       " 7,\n",
       " 37,\n",
       " 4,\n",
       " 19,\n",
       " 12,\n",
       " 1,\n",
       " 76,\n",
       " 4,\n",
       " 32,\n",
       " 12,\n",
       " 35,\n",
       " 46,\n",
       " 23,\n",
       " 23,\n",
       " 34,\n",
       " 32,\n",
       " 69,\n",
       " 48,\n",
       " 68,\n",
       " 38,\n",
       " 32,\n",
       " 36,\n",
       " 99,\n",
       " 48,\n",
       " 96,\n",
       " 21,\n",
       " 75,\n",
       " 16,\n",
       " 71,\n",
       " 73,\n",
       " 55,\n",
       " 81,\n",
       " 58,\n",
       " 43,\n",
       " 58,\n",
       " 11,\n",
       " 40,\n",
       " 38,\n",
       " 93,\n",
       " 89,\n",
       " 49,\n",
       " 59,\n",
       " 94,\n",
       " 86,\n",
       " 92,\n",
       " 42,\n",
       " 33,\n",
       " 64,\n",
       " 98,\n",
       " 79,\n",
       " 58,\n",
       " 38,\n",
       " 80,\n",
       " 77,\n",
       " 45,\n",
       " 33,\n",
       " 44,\n",
       " 16,\n",
       " 31,\n",
       " 42,\n",
       " 26,\n",
       " 23,\n",
       " 49,\n",
       " 1,\n",
       " 21,\n",
       " 4,\n",
       " 47,\n",
       " 23,\n",
       " 0,\n",
       " 45,\n",
       " 70,\n",
       " 50,\n",
       " 99,\n",
       " 24,\n",
       " 38,\n",
       " 41,\n",
       " 22,\n",
       " 39,\n",
       " 54,\n",
       " 22,\n",
       " 50,\n",
       " 13,\n",
       " 48,\n",
       " 82,\n",
       " 52,\n",
       " 17,\n",
       " 15,\n",
       " 40,\n",
       " 28,\n",
       " 35,\n",
       " 37,\n",
       " 98,\n",
       " 95,\n",
       " 11,\n",
       " 82,\n",
       " 56,\n",
       " 59,\n",
       " 12,\n",
       " 22,\n",
       " 29,\n",
       " 52,\n",
       " 34,\n",
       " 60,\n",
       " 57,\n",
       " 11,\n",
       " 80,\n",
       " 68,\n",
       " 64,\n",
       " 13,\n",
       " 34,\n",
       " 28,\n",
       " 59,\n",
       " 52,\n",
       " 39,\n",
       " 91,\n",
       " 45,\n",
       " 89,\n",
       " 60,\n",
       " 89,\n",
       " 97,\n",
       " 29,\n",
       " 47,\n",
       " 0,\n",
       " 64,\n",
       " 49,\n",
       " 4,\n",
       " 12,\n",
       " 74,\n",
       " 28,\n",
       " 1,\n",
       " 77,\n",
       " 32,\n",
       " 75,\n",
       " 7,\n",
       " 80,\n",
       " 47,\n",
       " 89,\n",
       " 74,\n",
       " 56,\n",
       " 7,\n",
       " 83,\n",
       " 5,\n",
       " 30,\n",
       " 17,\n",
       " 38,\n",
       " 58,\n",
       " 74,\n",
       " 24,\n",
       " 60,\n",
       " 14,\n",
       " 98,\n",
       " 51,\n",
       " 48,\n",
       " 84,\n",
       " 28,\n",
       " 51,\n",
       " 97,\n",
       " 37,\n",
       " 79,\n",
       " 98,\n",
       " 53,\n",
       " 60,\n",
       " 27,\n",
       " 33,\n",
       " 37,\n",
       " 57,\n",
       " 25,\n",
       " 59,\n",
       " 43,\n",
       " 36,\n",
       " 91,\n",
       " 54,\n",
       " 65,\n",
       " 29,\n",
       " 98,\n",
       " 56,\n",
       " 68,\n",
       " 48,\n",
       " 57,\n",
       " 37,\n",
       " 17,\n",
       " 73,\n",
       " 7,\n",
       " 1,\n",
       " 19,\n",
       " 82,\n",
       " 5,\n",
       " 40,\n",
       " 23,\n",
       " 94,\n",
       " 29,\n",
       " 34,\n",
       " 51,\n",
       " 28,\n",
       " 29,\n",
       " 0,\n",
       " 11,\n",
       " 54,\n",
       " 31,\n",
       " 73,\n",
       " 17,\n",
       " 42,\n",
       " 18,\n",
       " 78,\n",
       " 84,\n",
       " 36,\n",
       " 24,\n",
       " 44,\n",
       " 8,\n",
       " 16,\n",
       " 1,\n",
       " 94,\n",
       " 81,\n",
       " 38,\n",
       " 14,\n",
       " 18,\n",
       " 78,\n",
       " 62,\n",
       " 67,\n",
       " 67,\n",
       " 61,\n",
       " 99,\n",
       " 1,\n",
       " 91,\n",
       " 81,\n",
       " 21,\n",
       " 4,\n",
       " 35,\n",
       " 73,\n",
       " 69,\n",
       " 17,\n",
       " 4,\n",
       " 90,\n",
       " 87,\n",
       " 2,\n",
       " 13,\n",
       " 25,\n",
       " 20,\n",
       " 42,\n",
       " 93,\n",
       " 14,\n",
       " 14,\n",
       " 92,\n",
       " 51,\n",
       " 30,\n",
       " 87,\n",
       " 75,\n",
       " 48,\n",
       " 6,\n",
       " 61,\n",
       " 89,\n",
       " 7,\n",
       " ...]"
      ]
     },
     "execution_count": 28,
     "metadata": {},
     "output_type": "execute_result"
    }
   ],
   "source": [
    "b = list(a)\n",
    "b"
   ]
  },
  {
   "cell_type": "code",
   "execution_count": 29,
   "metadata": {},
   "outputs": [
    {
     "data": {
      "text/plain": [
       "list"
      ]
     },
     "execution_count": 29,
     "metadata": {},
     "output_type": "execute_result"
    }
   ],
   "source": [
    "type(b)"
   ]
  },
  {
   "cell_type": "markdown",
   "metadata": {},
   "source": [
    "Comparemos el rendimiento de ambos"
   ]
  },
  {
   "cell_type": "code",
   "execution_count": 33,
   "metadata": {},
   "outputs": [
    {
     "data": {
      "text/plain": [
       "4935090"
      ]
     },
     "execution_count": 33,
     "metadata": {},
     "output_type": "execute_result"
    }
   ],
   "source": [
    "sum(b)"
   ]
  },
  {
   "cell_type": "code",
   "execution_count": 34,
   "metadata": {
    "scrolled": true
   },
   "outputs": [
    {
     "data": {
      "text/plain": [
       "4935090"
      ]
     },
     "execution_count": 34,
     "metadata": {},
     "output_type": "execute_result"
    }
   ],
   "source": [
    "a.sum()"
   ]
  },
  {
   "cell_type": "markdown",
   "metadata": {},
   "source": [
    "En cada ejecucion los número aleatorios son distintos ... ¿cómo hago para que cada vez que corra el código sean los mismos?"
   ]
  },
  {
   "cell_type": "code",
   "execution_count": 227,
   "metadata": {},
   "outputs": [
    {
     "data": {
      "text/plain": [
       "array([2, 1, 1, 2, 2, 1, 4, 2, 1, 1])"
      ]
     },
     "execution_count": 227,
     "metadata": {},
     "output_type": "execute_result"
    }
   ],
   "source": [
    "np.random.seed(123)\n",
    "np.random.binomial(5, 0.3, 10)"
   ]
  },
  {
   "cell_type": "code",
   "execution_count": 226,
   "metadata": {
    "scrolled": true
   },
   "outputs": [
    {
     "data": {
      "text/plain": [
       "array([2, 1, 1, 2, 2, 1, 4, 2, 1, 1])"
      ]
     },
     "execution_count": 226,
     "metadata": {},
     "output_type": "execute_result"
    }
   ],
   "source": [
    "np.random.seed(123)\n",
    "np.random.binomial(5, 0.3, 10)"
   ]
  },
  {
   "cell_type": "code",
   "execution_count": 175,
   "metadata": {},
   "outputs": [
    {
     "data": {
      "text/plain": [
       "array([1, 1, 0, 1, 1, 0, 0, 0, 0, 0])"
      ]
     },
     "execution_count": 175,
     "metadata": {},
     "output_type": "execute_result"
    }
   ],
   "source": [
    "np.random.choice([0,1],10)"
   ]
  },
  {
   "cell_type": "markdown",
   "metadata": {},
   "source": [
    "Repliquemos el ejercio de las momendas"
   ]
  },
  {
   "cell_type": "code",
   "execution_count": 211,
   "metadata": {},
   "outputs": [],
   "source": [
    "def lanzarMonedas(nPar, l=10, mostrar=False):\n",
    "    \"\"\"\n",
    "    np, es número de participantes,\n",
    "    l, número de lanzamientos\n",
    "    Retorna la probabilidad de que salga cara.\n",
    "    \"\"\"\n",
    "    personas = np.zeros(l)\n",
    "    for i in range(nPar):\n",
    "        persona_i = np.random.choice([0,1],l)\n",
    "        if mostrar: print(persona_i)\n",
    "        personas += persona_i\n",
    "    return personas.sum()/(nPar*l) "
   ]
  },
  {
   "cell_type": "code",
   "execution_count": 220,
   "metadata": {},
   "outputs": [
    {
     "data": {
      "text/plain": [
       "0.5023"
      ]
     },
     "execution_count": 220,
     "metadata": {},
     "output_type": "execute_result"
    }
   ],
   "source": [
    "lanzarMonedas(1000)"
   ]
  },
  {
   "cell_type": "markdown",
   "metadata": {},
   "source": [
    "Puede haber una mejor implementacion, de manera matricial. "
   ]
  },
  {
   "cell_type": "code",
   "execution_count": 241,
   "metadata": {},
   "outputs": [],
   "source": [
    "def lanzarMonedaM(nPar, l=10, mostrar=False):\n",
    "    \"\"\"\n",
    "    np: es número de participantes,\n",
    "    l: número de lanzamientos\n",
    "    Retorna la probabilidad de que salga cara.\n",
    "    \"\"\"\n",
    "    personas = np.random.choice([0,1],(nPar,l))\n",
    "    return personas.sum()/(nPar*l) "
   ]
  },
  {
   "cell_type": "code",
   "execution_count": 262,
   "metadata": {},
   "outputs": [
    {
     "name": "stdout",
     "output_type": "stream",
     "text": [
      "13.6 ms ± 106 µs per loop (mean ± std. dev. of 7 runs, 100 loops each)\n"
     ]
    }
   ],
   "source": [
    "%%timeit\n",
    "lanzarMonedaM(100000)"
   ]
  },
  {
   "cell_type": "code",
   "execution_count": 263,
   "metadata": {},
   "outputs": [
    {
     "name": "stdout",
     "output_type": "stream",
     "text": [
      "3.03 s ± 14.2 ms per loop (mean ± std. dev. of 7 runs, 1 loop each)\n"
     ]
    }
   ],
   "source": [
    "%%timeit\n",
    "lanzarMonedas(100000)"
   ]
  },
  {
   "cell_type": "markdown",
   "metadata": {},
   "source": [
    "# Las operaciones matriciales nos permiten ganar eficiencia en los tiempos de ejecución"
   ]
  },
  {
   "cell_type": "markdown",
   "metadata": {},
   "source": [
    "## Operaciones matriciales con NumPy"
   ]
  },
  {
   "cell_type": "markdown",
   "metadata": {},
   "source": [
    "$$\\begin{bmatrix}\n",
    "    x_{11} & x_{12} & x_{13} & \\dots  & x_{1m} \\\\\n",
    "    x_{21} & x_{22} & x_{23} & \\dots  & x_{2m} \\\\\n",
    "    \\vdots & \\vdots & \\vdots & \\ddots & \\vdots \\\\\n",
    "    x_{n1} & x_{n2} & x_{n3} & \\dots  & x_{nm}\n",
    "\\end{bmatrix} $$"
   ]
  },
  {
   "cell_type": "code",
   "execution_count": 359,
   "metadata": {},
   "outputs": [
    {
     "data": {
      "text/plain": [
       "matrix([[1, 2, 3],\n",
       "        [5, 8, 6]])"
      ]
     },
     "execution_count": 359,
     "metadata": {},
     "output_type": "execute_result"
    }
   ],
   "source": [
    "A = np.matrix([[1,2, 3],[5, 8, 6]])\n",
    "A"
   ]
  },
  {
   "cell_type": "code",
   "execution_count": 360,
   "metadata": {},
   "outputs": [],
   "source": [
    "#Dimensiones "
   ]
  },
  {
   "cell_type": "code",
   "execution_count": 361,
   "metadata": {},
   "outputs": [],
   "source": [
    "#extraer elementos"
   ]
  },
  {
   "cell_type": "code",
   "execution_count": 362,
   "metadata": {},
   "outputs": [
    {
     "data": {
      "text/plain": [
       "array([[1., 1., 1.],\n",
       "       [1., 1., 1.]])"
      ]
     },
     "execution_count": 362,
     "metadata": {},
     "output_type": "execute_result"
    }
   ],
   "source": [
    "B = np.ones((2,3))\n",
    "B"
   ]
  },
  {
   "cell_type": "markdown",
   "metadata": {},
   "source": [
    "### Suma de matrices\n",
    "Ambas matrices deben tener exactamente la misma dimensión\n",
    "$$\\begin{bmatrix}\n",
    "    a_{1,1} & a_{1,2} & a_{1,3}  \\\\\n",
    "    a_{2,1} & a_{2,2} & a_{2,3}  \\\\\n",
    "\\end{bmatrix}  \n",
    " + \n",
    "\\begin{bmatrix}\n",
    "    b_{1,1} & b_{1,2} & b_{1,3}  \\\\\n",
    "    b_{2,1} & b_{2,2} & b_{2,3}  \\\\\n",
    "\\end{bmatrix}  \n",
    "= \n",
    "\\begin{bmatrix}\n",
    "    c_{1,1} & c_{1,2} & c_{1,3}  \\\\\n",
    "    c_{2,1} & c_{2,2} & c_{2,3}  \\\\\n",
    "\\end{bmatrix} \n",
    " $$"
   ]
  },
  {
   "cell_type": "code",
   "execution_count": 363,
   "metadata": {},
   "outputs": [
    {
     "data": {
      "text/plain": [
       "matrix([[0., 1., 2.],\n",
       "        [4., 7., 5.]])"
      ]
     },
     "execution_count": 363,
     "metadata": {},
     "output_type": "execute_result"
    }
   ],
   "source": [
    "C = A - B\n",
    "C"
   ]
  },
  {
   "cell_type": "markdown",
   "metadata": {},
   "source": [
    "### Multiplicación por un escalar\n",
    "k debe ser un escalar\n",
    "$$\n",
    "k\n",
    "\\begin{bmatrix}\n",
    "    1 & 2 & 3  \\\\\n",
    "    5 & 8 & 9  \\\\\n",
    "\\end{bmatrix}\n",
    "=\n",
    "\\begin{bmatrix}\n",
    "    1k & 2k & 3k  \\\\\n",
    "    5k & 8k & 9k  \\\\\n",
    "\\end{bmatrix}$$"
   ]
  },
  {
   "cell_type": "code",
   "execution_count": 364,
   "metadata": {},
   "outputs": [
    {
     "data": {
      "text/plain": [
       "matrix([[1, 2, 3],\n",
       "        [5, 8, 6]])"
      ]
     },
     "execution_count": 364,
     "metadata": {},
     "output_type": "execute_result"
    }
   ],
   "source": [
    "A"
   ]
  },
  {
   "cell_type": "code",
   "execution_count": 365,
   "metadata": {},
   "outputs": [
    {
     "data": {
      "text/plain": [
       "matrix([[ 3,  6,  9],\n",
       "        [15, 24, 18]])"
      ]
     },
     "execution_count": 365,
     "metadata": {},
     "output_type": "execute_result"
    }
   ],
   "source": [
    "k=3\n",
    "k*A"
   ]
  },
  {
   "cell_type": "markdown",
   "metadata": {},
   "source": [
    "### Multiplicaciones de matrices \n",
    "En columnas de la primera matriz debe ser el mismo que el número de filas de la segunda matriz"
   ]
  },
  {
   "cell_type": "markdown",
   "metadata": {},
   "source": [
    "$$\\begin{bmatrix}\n",
    "    a_{1,1} & a_{1,2}  \\\\\n",
    "    a_{2,1} & a_{2,2}  \\\\\n",
    "\\end{bmatrix}  \n",
    " + \n",
    "\\begin{bmatrix}\n",
    "    b_{1,1} & b_{1,2}   \\\\\n",
    "    b_{2,1} & b_{2,2}  \\\\\n",
    "\\end{bmatrix}  \n",
    "= \n",
    "\\begin{bmatrix}\n",
    "    c_{1,1} & c_{1,2}  \\\\\n",
    "    c_{2,1} & c_{2,2}  \\\\\n",
    "\\end{bmatrix} \n",
    " $$\n",
    " donde:\n",
    " $$ c_{1,1} = a_{1,1}b_{1,1} + a_{1,2}b_{2,1} $$\n",
    " $$ \\vdots $$"
   ]
  },
  {
   "cell_type": "code",
   "execution_count": 373,
   "metadata": {},
   "outputs": [
    {
     "name": "stdout",
     "output_type": "stream",
     "text": [
      "(2, 3)\n",
      "(2, 3)\n"
     ]
    }
   ],
   "source": [
    "print(A.shape)\n",
    "print(B.shape)"
   ]
  },
  {
   "cell_type": "code",
   "execution_count": 383,
   "metadata": {},
   "outputs": [
    {
     "data": {
      "text/plain": [
       "matrix([[8, 0, 6, 4, 1],\n",
       "        [0, 0, 5, 6, 9],\n",
       "        [3, 3, 7, 7, 5],\n",
       "        [1, 3, 8, 5, 4],\n",
       "        [3, 4, 8, 2, 8]])"
      ]
     },
     "execution_count": 383,
     "metadata": {},
     "output_type": "execute_result"
    }
   ],
   "source": [
    "X = np.matrix(np.random.randint(0, 10 , (5,5)))\n",
    "X"
   ]
  },
  {
   "cell_type": "code",
   "execution_count": 384,
   "metadata": {},
   "outputs": [
    {
     "data": {
      "text/plain": [
       "matrix([[2, 8, 1, 6, 6],\n",
       "        [6, 0, 7, 2, 2],\n",
       "        [8, 5, 3, 1, 2],\n",
       "        [2, 0, 7, 6, 3],\n",
       "        [8, 2, 1, 4, 9]])"
      ]
     },
     "execution_count": 384,
     "metadata": {},
     "output_type": "execute_result"
    }
   ],
   "source": [
    "Y = np.matrix(np.random.randint(0, 10 , (5,5)))\n",
    "Y"
   ]
  },
  {
   "cell_type": "code",
   "execution_count": 386,
   "metadata": {
    "scrolled": false
   },
   "outputs": [
    {
     "data": {
      "text/plain": [
       "matrix([[ 80,  96,  55,  82,  81],\n",
       "        [124,  43,  66,  77, 109],\n",
       "        [134,  69,  99,  93, 104],\n",
       "        [126,  56,  85,  66,  79],\n",
       "        [162,  80,  77,  78, 120]])"
      ]
     },
     "execution_count": 386,
     "metadata": {},
     "output_type": "execute_result"
    }
   ],
   "source": [
    "X*Y"
   ]
  },
  {
   "cell_type": "markdown",
   "metadata": {},
   "source": [
    "##### Transponiendo matrices"
   ]
  },
  {
   "cell_type": "code",
   "execution_count": 436,
   "metadata": {},
   "outputs": [],
   "source": [
    "#.T , .transpose()"
   ]
  },
  {
   "cell_type": "markdown",
   "metadata": {},
   "source": [
    "##### Tener mucho cuidado con el tipo de dato con el que se esta operando\n",
    "$$@ != * != np.dot()$$"
   ]
  },
  {
   "cell_type": "code",
   "execution_count": 387,
   "metadata": {},
   "outputs": [],
   "source": [
    "J = np.random.randint(0, 10 , (5,5))\n",
    "K = np.random.randint(0, 10 , (5,5))"
   ]
  },
  {
   "cell_type": "code",
   "execution_count": 399,
   "metadata": {
    "scrolled": true
   },
   "outputs": [
    {
     "data": {
      "text/plain": [
       "array([[6, 5, 4, 5, 9],\n",
       "       [1, 4, 3, 2, 2],\n",
       "       [8, 4, 8, 7, 9],\n",
       "       [4, 9, 0, 4, 1],\n",
       "       [7, 8, 4, 1, 1]])"
      ]
     },
     "execution_count": 399,
     "metadata": {},
     "output_type": "execute_result"
    }
   ],
   "source": [
    "J"
   ]
  },
  {
   "cell_type": "code",
   "execution_count": 400,
   "metadata": {},
   "outputs": [
    {
     "data": {
      "text/plain": [
       "array([[2, 1, 8, 7, 3],\n",
       "       [5, 4, 2, 0, 2],\n",
       "       [4, 4, 9, 6, 0],\n",
       "       [2, 7, 2, 7, 0],\n",
       "       [6, 1, 6, 8, 2]])"
      ]
     },
     "execution_count": 400,
     "metadata": {},
     "output_type": "execute_result"
    }
   ],
   "source": [
    "K"
   ]
  },
  {
   "cell_type": "code",
   "execution_count": 401,
   "metadata": {},
   "outputs": [
    {
     "data": {
      "text/plain": [
       "array([[117,  86, 158, 173,  46],\n",
       "       [ 50,  45,  59,  55,  15],\n",
       "       [136, 114, 212, 225,  50],\n",
       "       [ 67,  69,  64,  64,  32],\n",
       "       [ 78,  63, 116,  88,  39]])"
      ]
     },
     "execution_count": 401,
     "metadata": {},
     "output_type": "execute_result"
    }
   ],
   "source": [
    "J@K"
   ]
  },
  {
   "cell_type": "code",
   "execution_count": 408,
   "metadata": {},
   "outputs": [
    {
     "data": {
      "text/plain": [
       "116"
      ]
     },
     "execution_count": 408,
     "metadata": {},
     "output_type": "execute_result"
    }
   ],
   "source": [
    "suma = 0\n",
    "for i in range(5):\n",
    "    suma += J[4,i]*K[i,2]\n",
    "suma"
   ]
  },
  {
   "cell_type": "code",
   "execution_count": 398,
   "metadata": {
    "scrolled": false
   },
   "outputs": [
    {
     "data": {
      "text/plain": [
       "array([[117,  86, 158, 173,  46],\n",
       "       [ 50,  45,  59,  55,  15],\n",
       "       [136, 114, 212, 225,  50],\n",
       "       [ 67,  69,  64,  64,  32],\n",
       "       [ 78,  63, 116,  88,  39]])"
      ]
     },
     "execution_count": 398,
     "metadata": {},
     "output_type": "execute_result"
    }
   ],
   "source": [
    "np.dot(J,K)"
   ]
  },
  {
   "cell_type": "markdown",
   "metadata": {},
   "source": [
    "## Array NO ES IGUAL a matriz"
   ]
  },
  {
   "cell_type": "markdown",
   "metadata": {},
   "source": [
    "##### Inversa de la matriz"
   ]
  },
  {
   "cell_type": "code",
   "execution_count": 416,
   "metadata": {},
   "outputs": [
    {
     "data": {
      "text/plain": [
       "array([[-0.01970237, -0.3143995 ,  0.07524628,  0.02389436,  0.10500943],\n",
       "       [ 0.07147349,  0.16181094, -0.11339342,  0.01970237,  0.03395515],\n",
       "       [-0.12031021,  0.22909243,  0.07650388, -0.10941102,  0.04548313],\n",
       "       [-0.20394047, -0.0628799 ,  0.21504926,  0.20477887, -0.17899811],\n",
       "       [ 0.25131   ,  0.05281912, -0.14064137, -0.09201425, -0.00964158]])"
      ]
     },
     "execution_count": 416,
     "metadata": {},
     "output_type": "execute_result"
    }
   ],
   "source": [
    "L = np.matrix(J)\n",
    "np.linalg.inv(J)"
   ]
  },
  {
   "cell_type": "markdown",
   "metadata": {},
   "source": [
    "#### Manipulación de arrays en numpy"
   ]
  },
  {
   "cell_type": "code",
   "execution_count": 461,
   "metadata": {},
   "outputs": [],
   "source": [
    "A1 = np.random.random_sample(16)"
   ]
  },
  {
   "cell_type": "code",
   "execution_count": 462,
   "metadata": {
    "scrolled": true
   },
   "outputs": [
    {
     "data": {
      "text/plain": [
       "array([0.16682985, 0.20203825, 0.81908168, 0.66464837, 0.11519212,\n",
       "       0.1551715 , 0.7383829 , 0.68361541, 0.74383822, 0.73961174,\n",
       "       0.61172068, 0.67860617, 0.27037177, 0.3696376 , 0.24109778,\n",
       "       0.39651714])"
      ]
     },
     "execution_count": 462,
     "metadata": {},
     "output_type": "execute_result"
    }
   ],
   "source": [
    "A1"
   ]
  },
  {
   "cell_type": "code",
   "execution_count": 470,
   "metadata": {},
   "outputs": [
    {
     "data": {
      "text/plain": [
       "array([[0.16682985, 0.11519212, 0.74383822, 0.27037177],\n",
       "       [0.20203825, 0.1551715 , 0.73961174, 0.3696376 ],\n",
       "       [0.81908168, 0.7383829 , 0.61172068, 0.24109778],\n",
       "       [0.66464837, 0.68361541, 0.67860617, 0.39651714]])"
      ]
     },
     "execution_count": 470,
     "metadata": {},
     "output_type": "execute_result"
    }
   ],
   "source": [
    "A1.reshape((4,4),order=\"F\")"
   ]
  },
  {
   "cell_type": "code",
   "execution_count": 472,
   "metadata": {
    "scrolled": true
   },
   "outputs": [
    {
     "data": {
      "text/plain": [
       "array([[0.16682985, 0.20203825, 0.81908168, 0.66464837],\n",
       "       [0.11519212, 0.1551715 , 0.7383829 , 0.68361541],\n",
       "       [0.74383822, 0.73961174, 0.61172068, 0.67860617],\n",
       "       [0.27037177, 0.3696376 , 0.24109778, 0.39651714]])"
      ]
     },
     "execution_count": 472,
     "metadata": {},
     "output_type": "execute_result"
    }
   ],
   "source": [
    "A2 = A1.reshape((4,4))\n",
    "A2 # Copiar sin copy "
   ]
  },
  {
   "cell_type": "code",
   "execution_count": 469,
   "metadata": {},
   "outputs": [
    {
     "data": {
      "text/plain": [
       "array([0.16682985, 1.        , 0.61172068, 0.39651714])"
      ]
     },
     "execution_count": 469,
     "metadata": {},
     "output_type": "execute_result"
    }
   ],
   "source": [
    "A2.diagonal()"
   ]
  },
  {
   "cell_type": "code",
   "execution_count": 468,
   "metadata": {},
   "outputs": [
    {
     "data": {
      "text/plain": [
       "array([[0.16682985, 1.        , 0.81908168, 0.66464837],\n",
       "       [1.        , 1.        , 1.        , 1.        ],\n",
       "       [0.74383822, 1.        , 0.61172068, 0.67860617],\n",
       "       [0.27037177, 1.        , 0.24109778, 0.39651714]])"
      ]
     },
     "execution_count": 468,
     "metadata": {},
     "output_type": "execute_result"
    }
   ],
   "source": [
    "A2[1] = np.arange(1,2)\n",
    "A2"
   ]
  },
  {
   "cell_type": "code",
   "execution_count": 467,
   "metadata": {},
   "outputs": [
    {
     "data": {
      "text/plain": [
       "array([0.16682985, 1.        , 0.81908168, 0.66464837, 0.11519212,\n",
       "       1.        , 0.7383829 , 0.68361541, 0.74383822, 1.        ,\n",
       "       0.61172068, 0.67860617, 0.27037177, 1.        , 0.24109778,\n",
       "       0.39651714])"
      ]
     },
     "execution_count": 467,
     "metadata": {},
     "output_type": "execute_result"
    }
   ],
   "source": [
    "A2.flatten()"
   ]
  },
  {
   "cell_type": "markdown",
   "metadata": {},
   "source": [
    "## Ejercicio 1\n",
    "![alt-text](img/ajedrez.png)"
   ]
  },
  {
   "cell_type": "markdown",
   "metadata": {},
   "source": [
    "Crea una _**array**_ de numpy que simule un tablero de ajedrez en la posición inicial, con las siguientes características: \n",
    "* casillas blancas con \"W\"\n",
    "* casillas negras como \"B\".\n",
    "* además los peones con \"P\", torres con \"T\", caballos con \"C\", alfiles con \"A\", reina con \"Q\" y rey con \"R\". (Aquellas casillas donde existan piezas no es necesario que se muestre el color) \n"
   ]
  },
  {
   "cell_type": "code",
   "execution_count": null,
   "metadata": {},
   "outputs": [],
   "source": [
    "#ISML-W1-E1 No borrar esta línea!\n",
    "#####################################\n",
    "#tu código aquí\n",
    "\n",
    "\n",
    "\n",
    "#####################################"
   ]
  },
  {
   "cell_type": "markdown",
   "metadata": {},
   "source": [
    "### Ejercicio 2\n",
    "Resuelve el siguiente sistema de ecuaciones con **operaciones matriciales** en numpy.  "
   ]
  },
  {
   "cell_type": "markdown",
   "metadata": {},
   "source": [
    "$$\n",
    "\\left.\n",
    "\\begin{array}{rcl}\n",
    "     4x+8y-z & = & -1\n",
    "  \\\\ x-2y +z & = & 5\n",
    "  \\\\ 3x+2y+2z & = & 12\n",
    "\\end{array}\n",
    "\\right\\}\n",
    "$$"
   ]
  },
  {
   "cell_type": "code",
   "execution_count": null,
   "metadata": {},
   "outputs": [],
   "source": [
    "#ISML-W1-E2 No borrar esta línea!\n",
    "#####################################\n",
    "#tu código aquí\n",
    "\n",
    "\n",
    "\n",
    "#####################################"
   ]
  },
  {
   "cell_type": "markdown",
   "metadata": {},
   "source": [
    "![alt-text](img/cdd-lp-gray.png)"
   ]
  }
 ],
 "metadata": {
  "kernelspec": {
   "display_name": "Python 3",
   "language": "python",
   "name": "python3"
  },
  "language_info": {
   "codemirror_mode": {
    "name": "ipython",
    "version": 3
   },
   "file_extension": ".py",
   "mimetype": "text/x-python",
   "name": "python",
   "nbconvert_exporter": "python",
   "pygments_lexer": "ipython3",
   "version": "3.6.3"
  }
 },
 "nbformat": 4,
 "nbformat_minor": 2
}
