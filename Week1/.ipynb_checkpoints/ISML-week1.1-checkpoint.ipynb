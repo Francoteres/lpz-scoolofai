{
 "cells": [
  {
   "cell_type": "markdown",
   "metadata": {},
   "source": [
    "[![alt-text](img/LP-School-Of-AI-black.png)](https://www.facebook.com/groups/1204328906374103/)"
   ]
  },
  {
   "cell_type": "markdown",
   "metadata": {},
   "source": [
    "# Introducción a Statistical Machine Learning\n",
    "## Semana I: Python para Machine Learning y Ciencia de datos \n",
    "por: [Marco Antonio Vino](https://www.linkedin.com/in/mavino)\n",
    "### 1.1 Primeros pasos con Numpy\n"
   ]
  },
  {
   "cell_type": "markdown",
   "metadata": {},
   "source": [
    "[![alt-text](img/numpy.png)](http://www.numpy.org/)"
   ]
  },
  {
   "cell_type": "markdown",
   "metadata": {},
   "source": [
    "* Libreria especializada en el computo n-dimensional\n",
    "* Numpy trabja elementopor elemento\n"
   ]
  },
  {
   "cell_type": "markdown",
   "metadata": {},
   "source": [
    "La forma de importar librerias externas y asignar alias:"
   ]
  },
  {
   "cell_type": "code",
   "execution_count": 1,
   "metadata": {},
   "outputs": [],
   "source": [
    "import numpy as np"
   ]
  },
  {
   "cell_type": "markdown",
   "metadata": {},
   "source": [
    "comparando la eficiencia de los arrays de NumPy"
   ]
  },
  {
   "cell_type": "code",
   "execution_count": 2,
   "metadata": {},
   "outputs": [],
   "source": [
    "a = np.random.randint(0,100,10**5) #generando aleatorios"
   ]
  },
  {
   "cell_type": "code",
   "execution_count": 3,
   "metadata": {},
   "outputs": [
    {
     "data": {
      "text/plain": [
       "array([74, 76, 81, ...,  2, 61, 16])"
      ]
     },
     "execution_count": 3,
     "metadata": {},
     "output_type": "execute_result"
    }
   ],
   "source": [
    "a"
   ]
  },
  {
   "cell_type": "code",
   "execution_count": 4,
   "metadata": {},
   "outputs": [
    {
     "data": {
      "text/plain": [
       "numpy.ndarray"
      ]
     },
     "execution_count": 4,
     "metadata": {},
     "output_type": "execute_result"
    }
   ],
   "source": [
    "type(a)"
   ]
  },
  {
   "cell_type": "code",
   "execution_count": 5,
   "metadata": {},
   "outputs": [
    {
     "data": {
      "text/plain": [
       "[74,\n",
       " 76,\n",
       " 81,\n",
       " 35,\n",
       " 2,\n",
       " 30,\n",
       " 61,\n",
       " 34,\n",
       " 81,\n",
       " 8,\n",
       " 18,\n",
       " 8,\n",
       " 16,\n",
       " 45,\n",
       " 43,\n",
       " 21,\n",
       " 60,\n",
       " 30,\n",
       " 69,\n",
       " 80,\n",
       " 83,\n",
       " 38,\n",
       " 50,\n",
       " 34,\n",
       " 53,\n",
       " 82,\n",
       " 18,\n",
       " 0,\n",
       " 9,\n",
       " 76,\n",
       " 68,\n",
       " 8,\n",
       " 67,\n",
       " 9,\n",
       " 40,\n",
       " 33,\n",
       " 3,\n",
       " 9,\n",
       " 1,\n",
       " 42,\n",
       " 44,\n",
       " 92,\n",
       " 50,\n",
       " 31,\n",
       " 91,\n",
       " 78,\n",
       " 20,\n",
       " 38,\n",
       " 2,\n",
       " 14,\n",
       " 68,\n",
       " 88,\n",
       " 68,\n",
       " 21,\n",
       " 21,\n",
       " 21,\n",
       " 54,\n",
       " 3,\n",
       " 23,\n",
       " 57,\n",
       " 47,\n",
       " 7,\n",
       " 92,\n",
       " 40,\n",
       " 1,\n",
       " 37,\n",
       " 44,\n",
       " 60,\n",
       " 63,\n",
       " 14,\n",
       " 75,\n",
       " 10,\n",
       " 53,\n",
       " 35,\n",
       " 23,\n",
       " 69,\n",
       " 23,\n",
       " 80,\n",
       " 10,\n",
       " 4,\n",
       " 38,\n",
       " 74,\n",
       " 89,\n",
       " 92,\n",
       " 42,\n",
       " 9,\n",
       " 62,\n",
       " 76,\n",
       " 52,\n",
       " 21,\n",
       " 0,\n",
       " 63,\n",
       " 29,\n",
       " 26,\n",
       " 1,\n",
       " 51,\n",
       " 68,\n",
       " 99,\n",
       " 17,\n",
       " 46,\n",
       " 59,\n",
       " 14,\n",
       " 47,\n",
       " 23,\n",
       " 52,\n",
       " 37,\n",
       " 83,\n",
       " 64,\n",
       " 36,\n",
       " 88,\n",
       " 86,\n",
       " 54,\n",
       " 10,\n",
       " 34,\n",
       " 89,\n",
       " 56,\n",
       " 72,\n",
       " 49,\n",
       " 73,\n",
       " 53,\n",
       " 83,\n",
       " 87,\n",
       " 61,\n",
       " 18,\n",
       " 81,\n",
       " 73,\n",
       " 23,\n",
       " 70,\n",
       " 40,\n",
       " 40,\n",
       " 97,\n",
       " 19,\n",
       " 22,\n",
       " 32,\n",
       " 30,\n",
       " 39,\n",
       " 41,\n",
       " 36,\n",
       " 27,\n",
       " 63,\n",
       " 7,\n",
       " 5,\n",
       " 77,\n",
       " 3,\n",
       " 82,\n",
       " 67,\n",
       " 50,\n",
       " 63,\n",
       " 6,\n",
       " 93,\n",
       " 42,\n",
       " 28,\n",
       " 96,\n",
       " 82,\n",
       " 94,\n",
       " 90,\n",
       " 68,\n",
       " 99,\n",
       " 96,\n",
       " 81,\n",
       " 50,\n",
       " 24,\n",
       " 94,\n",
       " 65,\n",
       " 13,\n",
       " 14,\n",
       " 49,\n",
       " 14,\n",
       " 54,\n",
       " 93,\n",
       " 0,\n",
       " 74,\n",
       " 26,\n",
       " 99,\n",
       " 33,\n",
       " 33,\n",
       " 95,\n",
       " 3,\n",
       " 58,\n",
       " 25,\n",
       " 85,\n",
       " 6,\n",
       " 54,\n",
       " 22,\n",
       " 73,\n",
       " 8,\n",
       " 66,\n",
       " 27,\n",
       " 18,\n",
       " 22,\n",
       " 35,\n",
       " 12,\n",
       " 43,\n",
       " 82,\n",
       " 75,\n",
       " 4,\n",
       " 86,\n",
       " 36,\n",
       " 2,\n",
       " 5,\n",
       " 91,\n",
       " 29,\n",
       " 44,\n",
       " 9,\n",
       " 95,\n",
       " 76,\n",
       " 74,\n",
       " 44,\n",
       " 35,\n",
       " 57,\n",
       " 65,\n",
       " 67,\n",
       " 7,\n",
       " 24,\n",
       " 16,\n",
       " 6,\n",
       " 86,\n",
       " 86,\n",
       " 1,\n",
       " 80,\n",
       " 18,\n",
       " 93,\n",
       " 91,\n",
       " 62,\n",
       " 20,\n",
       " 31,\n",
       " 75,\n",
       " 78,\n",
       " 72,\n",
       " 40,\n",
       " 6,\n",
       " 38,\n",
       " 18,\n",
       " 96,\n",
       " 6,\n",
       " 11,\n",
       " 19,\n",
       " 53,\n",
       " 49,\n",
       " 46,\n",
       " 41,\n",
       " 34,\n",
       " 49,\n",
       " 72,\n",
       " 56,\n",
       " 5,\n",
       " 85,\n",
       " 80,\n",
       " 46,\n",
       " 86,\n",
       " 10,\n",
       " 32,\n",
       " 65,\n",
       " 60,\n",
       " 65,\n",
       " 44,\n",
       " 49,\n",
       " 5,\n",
       " 1,\n",
       " 20,\n",
       " 71,\n",
       " 65,\n",
       " 49,\n",
       " 9,\n",
       " 74,\n",
       " 67,\n",
       " 74,\n",
       " 16,\n",
       " 94,\n",
       " 33,\n",
       " 87,\n",
       " 75,\n",
       " 38,\n",
       " 44,\n",
       " 21,\n",
       " 12,\n",
       " 1,\n",
       " 74,\n",
       " 35,\n",
       " 91,\n",
       " 95,\n",
       " 4,\n",
       " 48,\n",
       " 14,\n",
       " 75,\n",
       " 48,\n",
       " 96,\n",
       " 58,\n",
       " 53,\n",
       " 97,\n",
       " 54,\n",
       " 47,\n",
       " 80,\n",
       " 54,\n",
       " 85,\n",
       " 77,\n",
       " 12,\n",
       " 26,\n",
       " 7,\n",
       " 16,\n",
       " 82,\n",
       " 41,\n",
       " 44,\n",
       " 51,\n",
       " 73,\n",
       " 35,\n",
       " 22,\n",
       " 92,\n",
       " 51,\n",
       " 96,\n",
       " 7,\n",
       " 23,\n",
       " 51,\n",
       " 76,\n",
       " 12,\n",
       " 27,\n",
       " 83,\n",
       " 14,\n",
       " 79,\n",
       " 58,\n",
       " 47,\n",
       " 23,\n",
       " 7,\n",
       " 49,\n",
       " 18,\n",
       " 65,\n",
       " 4,\n",
       " 56,\n",
       " 19,\n",
       " 90,\n",
       " 87,\n",
       " 65,\n",
       " 49,\n",
       " 57,\n",
       " 44,\n",
       " 64,\n",
       " 50,\n",
       " 70,\n",
       " 18,\n",
       " 26,\n",
       " 59,\n",
       " 78,\n",
       " 16,\n",
       " 44,\n",
       " 49,\n",
       " 40,\n",
       " 59,\n",
       " 82,\n",
       " 85,\n",
       " 89,\n",
       " 50,\n",
       " 83,\n",
       " 3,\n",
       " 0,\n",
       " 9,\n",
       " 3,\n",
       " 2,\n",
       " 45,\n",
       " 8,\n",
       " 94,\n",
       " 30,\n",
       " 37,\n",
       " 80,\n",
       " 93,\n",
       " 37,\n",
       " 95,\n",
       " 70,\n",
       " 8,\n",
       " 10,\n",
       " 49,\n",
       " 22,\n",
       " 80,\n",
       " 95,\n",
       " 63,\n",
       " 84,\n",
       " 41,\n",
       " 68,\n",
       " 76,\n",
       " 22,\n",
       " 35,\n",
       " 58,\n",
       " 22,\n",
       " 3,\n",
       " 75,\n",
       " 92,\n",
       " 11,\n",
       " 64,\n",
       " 65,\n",
       " 21,\n",
       " 92,\n",
       " 35,\n",
       " 20,\n",
       " 44,\n",
       " 57,\n",
       " 68,\n",
       " 48,\n",
       " 67,\n",
       " 64,\n",
       " 79,\n",
       " 24,\n",
       " 84,\n",
       " 79,\n",
       " 25,\n",
       " 39,\n",
       " 12,\n",
       " 83,\n",
       " 28,\n",
       " 60,\n",
       " 80,\n",
       " 67,\n",
       " 56,\n",
       " 48,\n",
       " 26,\n",
       " 46,\n",
       " 11,\n",
       " 34,\n",
       " 49,\n",
       " 49,\n",
       " 11,\n",
       " 15,\n",
       " 11,\n",
       " 8,\n",
       " 52,\n",
       " 42,\n",
       " 69,\n",
       " 33,\n",
       " 26,\n",
       " 27,\n",
       " 1,\n",
       " 8,\n",
       " 94,\n",
       " 0,\n",
       " 52,\n",
       " 8,\n",
       " 46,\n",
       " 37,\n",
       " 51,\n",
       " 9,\n",
       " 8,\n",
       " 95,\n",
       " 63,\n",
       " 51,\n",
       " 85,\n",
       " 82,\n",
       " 46,\n",
       " 62,\n",
       " 60,\n",
       " 54,\n",
       " 81,\n",
       " 12,\n",
       " 94,\n",
       " 89,\n",
       " 91,\n",
       " 70,\n",
       " 61,\n",
       " 30,\n",
       " 37,\n",
       " 0,\n",
       " 49,\n",
       " 10,\n",
       " 49,\n",
       " 93,\n",
       " 58,\n",
       " 53,\n",
       " 86,\n",
       " 85,\n",
       " 40,\n",
       " 31,\n",
       " 19,\n",
       " 86,\n",
       " 29,\n",
       " 91,\n",
       " 94,\n",
       " 45,\n",
       " 92,\n",
       " 56,\n",
       " 35,\n",
       " 99,\n",
       " 5,\n",
       " 56,\n",
       " 97,\n",
       " 34,\n",
       " 63,\n",
       " 85,\n",
       " 78,\n",
       " 79,\n",
       " 70,\n",
       " 29,\n",
       " 37,\n",
       " 25,\n",
       " 26,\n",
       " 16,\n",
       " 69,\n",
       " 0,\n",
       " 9,\n",
       " 56,\n",
       " 50,\n",
       " 20,\n",
       " 40,\n",
       " 65,\n",
       " 34,\n",
       " 99,\n",
       " 41,\n",
       " 98,\n",
       " 15,\n",
       " 62,\n",
       " 67,\n",
       " 59,\n",
       " 83,\n",
       " 28,\n",
       " 46,\n",
       " 41,\n",
       " 24,\n",
       " 13,\n",
       " 79,\n",
       " 69,\n",
       " 5,\n",
       " 88,\n",
       " 37,\n",
       " 15,\n",
       " 38,\n",
       " 72,\n",
       " 38,\n",
       " 59,\n",
       " 79,\n",
       " 14,\n",
       " 95,\n",
       " 3,\n",
       " 62,\n",
       " 15,\n",
       " 63,\n",
       " 94,\n",
       " 12,\n",
       " 2,\n",
       " 98,\n",
       " 4,\n",
       " 40,\n",
       " 13,\n",
       " 32,\n",
       " 29,\n",
       " 93,\n",
       " 91,\n",
       " 40,\n",
       " 43,\n",
       " 38,\n",
       " 44,\n",
       " 0,\n",
       " 65,\n",
       " 20,\n",
       " 52,\n",
       " 44,\n",
       " 48,\n",
       " 27,\n",
       " 42,\n",
       " 86,\n",
       " 37,\n",
       " 5,\n",
       " 92,\n",
       " 49,\n",
       " 90,\n",
       " 4,\n",
       " 88,\n",
       " 73,\n",
       " 61,\n",
       " 78,\n",
       " 70,\n",
       " 21,\n",
       " 61,\n",
       " 98,\n",
       " 22,\n",
       " 80,\n",
       " 80,\n",
       " 42,\n",
       " 31,\n",
       " 52,\n",
       " 46,\n",
       " 77,\n",
       " 65,\n",
       " 50,\n",
       " 61,\n",
       " 1,\n",
       " 41,\n",
       " 4,\n",
       " 71,\n",
       " 28,\n",
       " 44,\n",
       " 27,\n",
       " 81,\n",
       " 71,\n",
       " 67,\n",
       " 20,\n",
       " 86,\n",
       " 13,\n",
       " 11,\n",
       " 93,\n",
       " 15,\n",
       " 9,\n",
       " 77,\n",
       " 91,\n",
       " 59,\n",
       " 26,\n",
       " 96,\n",
       " 46,\n",
       " 87,\n",
       " 48,\n",
       " 46,\n",
       " 99,\n",
       " 73,\n",
       " 69,\n",
       " 46,\n",
       " 97,\n",
       " 76,\n",
       " 91,\n",
       " 96,\n",
       " 58,\n",
       " 13,\n",
       " 66,\n",
       " 56,\n",
       " 82,\n",
       " 10,\n",
       " 45,\n",
       " 53,\n",
       " 90,\n",
       " 93,\n",
       " 36,\n",
       " 22,\n",
       " 24,\n",
       " 90,\n",
       " 13,\n",
       " 60,\n",
       " 76,\n",
       " 54,\n",
       " 43,\n",
       " 50,\n",
       " 55,\n",
       " 45,\n",
       " 3,\n",
       " 42,\n",
       " 31,\n",
       " 13,\n",
       " 31,\n",
       " 4,\n",
       " 81,\n",
       " 25,\n",
       " 18,\n",
       " 11,\n",
       " 17,\n",
       " 36,\n",
       " 95,\n",
       " 0,\n",
       " 49,\n",
       " 68,\n",
       " 78,\n",
       " 61,\n",
       " 20,\n",
       " 47,\n",
       " 78,\n",
       " 45,\n",
       " 28,\n",
       " 35,\n",
       " 1,\n",
       " 27,\n",
       " 95,\n",
       " 29,\n",
       " 39,\n",
       " 71,\n",
       " 27,\n",
       " 13,\n",
       " 47,\n",
       " 43,\n",
       " 78,\n",
       " 64,\n",
       " 42,\n",
       " 81,\n",
       " 89,\n",
       " 52,\n",
       " 42,\n",
       " 59,\n",
       " 3,\n",
       " 47,\n",
       " 23,\n",
       " 40,\n",
       " 10,\n",
       " 43,\n",
       " 31,\n",
       " 77,\n",
       " 2,\n",
       " 24,\n",
       " 46,\n",
       " 64,\n",
       " 28,\n",
       " 16,\n",
       " 75,\n",
       " 85,\n",
       " 38,\n",
       " 70,\n",
       " 16,\n",
       " 25,\n",
       " 75,\n",
       " 41,\n",
       " 86,\n",
       " 29,\n",
       " 20,\n",
       " 27,\n",
       " 36,\n",
       " 35,\n",
       " 64,\n",
       " 46,\n",
       " 23,\n",
       " 6,\n",
       " 57,\n",
       " 8,\n",
       " 42,\n",
       " 69,\n",
       " 28,\n",
       " 31,\n",
       " 30,\n",
       " 78,\n",
       " 38,\n",
       " 18,\n",
       " 15,\n",
       " 91,\n",
       " 25,\n",
       " 8,\n",
       " 92,\n",
       " 44,\n",
       " 20,\n",
       " 55,\n",
       " 37,\n",
       " 91,\n",
       " 95,\n",
       " 39,\n",
       " 94,\n",
       " 87,\n",
       " 28,\n",
       " 70,\n",
       " 86,\n",
       " 41,\n",
       " 76,\n",
       " 63,\n",
       " 50,\n",
       " 66,\n",
       " 78,\n",
       " 36,\n",
       " 19,\n",
       " 83,\n",
       " 23,\n",
       " 25,\n",
       " 94,\n",
       " 51,\n",
       " 56,\n",
       " 61,\n",
       " 21,\n",
       " 88,\n",
       " 75,\n",
       " 35,\n",
       " 79,\n",
       " 90,\n",
       " 50,\n",
       " 74,\n",
       " 6,\n",
       " 96,\n",
       " 92,\n",
       " 45,\n",
       " 8,\n",
       " 37,\n",
       " 33,\n",
       " 12,\n",
       " 96,\n",
       " 24,\n",
       " 90,\n",
       " 93,\n",
       " 34,\n",
       " 21,\n",
       " 0,\n",
       " 65,\n",
       " 92,\n",
       " 8,\n",
       " 78,\n",
       " 64,\n",
       " 84,\n",
       " 31,\n",
       " 91,\n",
       " 95,\n",
       " 62,\n",
       " 29,\n",
       " 13,\n",
       " 53,\n",
       " 38,\n",
       " 76,\n",
       " 30,\n",
       " 94,\n",
       " 1,\n",
       " 78,\n",
       " 43,\n",
       " 56,\n",
       " 16,\n",
       " 78,\n",
       " 42,\n",
       " 72,\n",
       " 67,\n",
       " 3,\n",
       " 83,\n",
       " 34,\n",
       " 10,\n",
       " 52,\n",
       " 49,\n",
       " 56,\n",
       " 93,\n",
       " 77,\n",
       " 92,\n",
       " 48,\n",
       " 55,\n",
       " 6,\n",
       " 25,\n",
       " 99,\n",
       " 11,\n",
       " 53,\n",
       " 68,\n",
       " 64,\n",
       " 56,\n",
       " 36,\n",
       " 54,\n",
       " 73,\n",
       " 69,\n",
       " 26,\n",
       " 67,\n",
       " 15,\n",
       " 28,\n",
       " 42,\n",
       " 11,\n",
       " 14,\n",
       " 40,\n",
       " 25,\n",
       " 72,\n",
       " 60,\n",
       " 20,\n",
       " 39,\n",
       " 40,\n",
       " 15,\n",
       " 37,\n",
       " 76,\n",
       " 93,\n",
       " 78,\n",
       " 12,\n",
       " 14,\n",
       " 83,\n",
       " 65,\n",
       " 89,\n",
       " 30,\n",
       " 53,\n",
       " 23,\n",
       " 40,\n",
       " 3,\n",
       " 94,\n",
       " 72,\n",
       " 23,\n",
       " 69,\n",
       " 73,\n",
       " 11,\n",
       " 66,\n",
       " 51,\n",
       " 59,\n",
       " 61,\n",
       " 62,\n",
       " 0,\n",
       " 66,\n",
       " 27,\n",
       " 36,\n",
       " 60,\n",
       " 57,\n",
       " 93,\n",
       " 94,\n",
       " 93,\n",
       " 73,\n",
       " 27,\n",
       " 69,\n",
       " 63,\n",
       " 75,\n",
       " 95,\n",
       " 81,\n",
       " 46,\n",
       " 79,\n",
       " 72,\n",
       " 69,\n",
       " 77,\n",
       " 79,\n",
       " 97,\n",
       " 58,\n",
       " 81,\n",
       " 13,\n",
       " 17,\n",
       " 4,\n",
       " 5,\n",
       " 3,\n",
       " 37,\n",
       " 12,\n",
       " 13,\n",
       " 81,\n",
       " 75,\n",
       " 46,\n",
       " 68,\n",
       " 41,\n",
       " 54,\n",
       " 77,\n",
       " 71,\n",
       " 84,\n",
       " 43,\n",
       " 87,\n",
       " 97,\n",
       " 24,\n",
       " 18,\n",
       " 47,\n",
       " 29,\n",
       " 40,\n",
       " 39,\n",
       " 8,\n",
       " 23,\n",
       " 86,\n",
       " 13,\n",
       " 69,\n",
       " 52,\n",
       " 92,\n",
       " 12,\n",
       " 54,\n",
       " 82,\n",
       " 47,\n",
       " 82,\n",
       " 13,\n",
       " 66,\n",
       " 23,\n",
       " 36,\n",
       " 85,\n",
       " 89,\n",
       " 12,\n",
       " 16,\n",
       " 93,\n",
       " 60,\n",
       " 23,\n",
       " 45,\n",
       " 91,\n",
       " 2,\n",
       " 17,\n",
       " 69,\n",
       " 64,\n",
       " 65,\n",
       " 94,\n",
       " 44,\n",
       " 18,\n",
       " 9,\n",
       " 95,\n",
       " 76,\n",
       " 83,\n",
       " 0,\n",
       " 50,\n",
       " 44,\n",
       " 84,\n",
       " 98,\n",
       " 79,\n",
       " 19,\n",
       " 18,\n",
       " 69,\n",
       " 12,\n",
       " 38,\n",
       " 94,\n",
       " 77,\n",
       " 70,\n",
       " 81,\n",
       " 5,\n",
       " 11,\n",
       " 68,\n",
       " 49,\n",
       " 63,\n",
       " 35,\n",
       " 42,\n",
       " 51,\n",
       " 97,\n",
       " 64,\n",
       " 96,\n",
       " 36,\n",
       " 12,\n",
       " 70,\n",
       " 48,\n",
       " 24,\n",
       " 17,\n",
       " 83,\n",
       " 27,\n",
       " 29,\n",
       " 23,\n",
       " 6,\n",
       " 24,\n",
       " 53,\n",
       " 46,\n",
       " 54,\n",
       " 29,\n",
       " 72,\n",
       " 72,\n",
       " 64,\n",
       " 24,\n",
       " 60,\n",
       " ...]"
      ]
     },
     "execution_count": 5,
     "metadata": {},
     "output_type": "execute_result"
    }
   ],
   "source": [
    "b = list(a)\n",
    "b"
   ]
  },
  {
   "cell_type": "code",
   "execution_count": 6,
   "metadata": {},
   "outputs": [
    {
     "data": {
      "text/plain": [
       "list"
      ]
     },
     "execution_count": 6,
     "metadata": {},
     "output_type": "execute_result"
    }
   ],
   "source": [
    "type(b)"
   ]
  },
  {
   "cell_type": "markdown",
   "metadata": {},
   "source": [
    "Comparemos el rendimiento de ambos"
   ]
  },
  {
   "cell_type": "code",
   "execution_count": 7,
   "metadata": {},
   "outputs": [
    {
     "data": {
      "text/plain": [
       "4944740"
      ]
     },
     "execution_count": 7,
     "metadata": {},
     "output_type": "execute_result"
    }
   ],
   "source": [
    "sum(b)"
   ]
  },
  {
   "cell_type": "code",
   "execution_count": 8,
   "metadata": {
    "scrolled": true
   },
   "outputs": [
    {
     "data": {
      "text/plain": [
       "4944740"
      ]
     },
     "execution_count": 8,
     "metadata": {},
     "output_type": "execute_result"
    }
   ],
   "source": [
    "a.sum()"
   ]
  },
  {
   "cell_type": "markdown",
   "metadata": {},
   "source": [
    "En cada ejecucion los número aleatorios son distintos ... ¿cómo hago para que cada vez que corra el código sean los mismos?"
   ]
  },
  {
   "cell_type": "code",
   "execution_count": 9,
   "metadata": {},
   "outputs": [
    {
     "data": {
      "text/plain": [
       "array([2, 1, 1, 2, 2, 1, 4, 2, 1, 1])"
      ]
     },
     "execution_count": 9,
     "metadata": {},
     "output_type": "execute_result"
    }
   ],
   "source": [
    "np.random.seed(123)\n",
    "np.random.binomial(5, 0.3, 10)"
   ]
  },
  {
   "cell_type": "code",
   "execution_count": 10,
   "metadata": {
    "scrolled": true
   },
   "outputs": [
    {
     "data": {
      "text/plain": [
       "array([2, 1, 1, 2, 2, 1, 4, 2, 1, 1])"
      ]
     },
     "execution_count": 10,
     "metadata": {},
     "output_type": "execute_result"
    }
   ],
   "source": [
    "np.random.seed(123)\n",
    "np.random.binomial(5, 0.3, 10)"
   ]
  },
  {
   "cell_type": "code",
   "execution_count": 11,
   "metadata": {},
   "outputs": [
    {
     "data": {
      "text/plain": [
       "array([0, 0, 1, 1, 1, 0, 1, 0, 0, 0])"
      ]
     },
     "execution_count": 11,
     "metadata": {},
     "output_type": "execute_result"
    }
   ],
   "source": [
    "np.random.choice([0,1],10)"
   ]
  },
  {
   "cell_type": "markdown",
   "metadata": {},
   "source": [
    "Repliquemos el ejercio de las momendas"
   ]
  },
  {
   "cell_type": "code",
   "execution_count": 12,
   "metadata": {},
   "outputs": [],
   "source": [
    "def lanzarMonedas(nPar, l=10, mostrar=False):\n",
    "    \"\"\"\n",
    "    np, es número de participantes,\n",
    "    l, número de lanzamientos\n",
    "    Retorna la probabilidad de que salga cara.\n",
    "    \"\"\"\n",
    "    personas = np.zeros(l)\n",
    "    for i in range(nPar):\n",
    "        persona_i = np.random.choice([0,1],l)\n",
    "        if mostrar: print(persona_i)\n",
    "        personas += persona_i\n",
    "    return personas.sum()/(nPar*l) "
   ]
  },
  {
   "cell_type": "code",
   "execution_count": 13,
   "metadata": {},
   "outputs": [
    {
     "name": "stdout",
     "output_type": "stream",
     "text": [
      "32.8 ms ± 730 µs per loop (mean ± std. dev. of 7 runs, 10 loops each)\n"
     ]
    }
   ],
   "source": [
    "%%timeit\n",
    "lanzarMonedas(1000)"
   ]
  },
  {
   "cell_type": "markdown",
   "metadata": {},
   "source": [
    "Puede haber una mejor implementacion, de manera matricial. "
   ]
  },
  {
   "cell_type": "code",
   "execution_count": 14,
   "metadata": {},
   "outputs": [],
   "source": [
    "def lanzarMonedaM(nPar, l=10, mostrar=False):\n",
    "    \"\"\"\n",
    "    np: es número de participantes,\n",
    "    l: número de lanzamientos\n",
    "    Retorna la probabilidad de que salga cara.\n",
    "    \"\"\"\n",
    "    personas = np.random.choice([0,1],(nPar,l))\n",
    "    return personas.sum()/(nPar*l) "
   ]
  },
  {
   "cell_type": "code",
   "execution_count": 15,
   "metadata": {},
   "outputs": [
    {
     "data": {
      "text/plain": [
       "0.501048"
      ]
     },
     "execution_count": 15,
     "metadata": {},
     "output_type": "execute_result"
    }
   ],
   "source": [
    "lanzarMonedaM(100000)"
   ]
  },
  {
   "cell_type": "code",
   "execution_count": 16,
   "metadata": {},
   "outputs": [
    {
     "data": {
      "text/plain": [
       "0.499879"
      ]
     },
     "execution_count": 16,
     "metadata": {},
     "output_type": "execute_result"
    }
   ],
   "source": [
    "lanzarMonedas(100000)"
   ]
  },
  {
   "cell_type": "markdown",
   "metadata": {},
   "source": [
    "# Las operaciones matriciales nos permiten ganar eficiencia en los tiempos de ejecución"
   ]
  },
  {
   "cell_type": "markdown",
   "metadata": {},
   "source": [
    "## Operaciones matriciales con NumPy"
   ]
  },
  {
   "cell_type": "markdown",
   "metadata": {},
   "source": [
    "$$\\begin{bmatrix}\n",
    "    x_{11} & x_{12} & x_{13} & \\dots  & x_{1m} \\\\\n",
    "    x_{21} & x_{22} & x_{23} & \\dots  & x_{2m} \\\\\n",
    "    \\vdots & \\vdots & \\vdots & \\ddots & \\vdots \\\\\n",
    "    x_{n1} & x_{n2} & x_{n3} & \\dots  & x_{nm}\n",
    "\\end{bmatrix} $$"
   ]
  },
  {
   "cell_type": "code",
   "execution_count": 17,
   "metadata": {},
   "outputs": [
    {
     "data": {
      "text/plain": [
       "matrix([[1, 2, 3],\n",
       "        [5, 8, 6]])"
      ]
     },
     "execution_count": 17,
     "metadata": {},
     "output_type": "execute_result"
    }
   ],
   "source": [
    "A = np.matrix([[1,2, 3],[5, 8, 6]])\n",
    "A"
   ]
  },
  {
   "cell_type": "code",
   "execution_count": 18,
   "metadata": {},
   "outputs": [],
   "source": [
    "#Dimensiones "
   ]
  },
  {
   "cell_type": "code",
   "execution_count": 19,
   "metadata": {},
   "outputs": [],
   "source": [
    "#extraer elementos"
   ]
  },
  {
   "cell_type": "code",
   "execution_count": 20,
   "metadata": {},
   "outputs": [
    {
     "data": {
      "text/plain": [
       "array([[1., 1., 1.],\n",
       "       [1., 1., 1.]])"
      ]
     },
     "execution_count": 20,
     "metadata": {},
     "output_type": "execute_result"
    }
   ],
   "source": [
    "B = np.ones((2,3))\n",
    "B"
   ]
  },
  {
   "cell_type": "markdown",
   "metadata": {},
   "source": [
    "### Suma de matrices\n",
    "Ambas matrices deben tener exactamente la misma dimensión\n",
    "$$\\begin{bmatrix}\n",
    "    a_{1,1} & a_{1,2} & a_{1,3}  \\\\\n",
    "    a_{2,1} & a_{2,2} & a_{2,3}  \\\\\n",
    "\\end{bmatrix}  \n",
    " + \n",
    "\\begin{bmatrix}\n",
    "    b_{1,1} & b_{1,2} & b_{1,3}  \\\\\n",
    "    b_{2,1} & b_{2,2} & b_{2,3}  \\\\\n",
    "\\end{bmatrix}  \n",
    "= \n",
    "\\begin{bmatrix}\n",
    "    c_{1,1} & c_{1,2} & c_{1,3}  \\\\\n",
    "    c_{2,1} & c_{2,2} & c_{2,3}  \\\\\n",
    "\\end{bmatrix} \n",
    " $$"
   ]
  },
  {
   "cell_type": "code",
   "execution_count": 21,
   "metadata": {},
   "outputs": [
    {
     "data": {
      "text/plain": [
       "matrix([[0., 1., 2.],\n",
       "        [4., 7., 5.]])"
      ]
     },
     "execution_count": 21,
     "metadata": {},
     "output_type": "execute_result"
    }
   ],
   "source": [
    "C = A - B\n",
    "C"
   ]
  },
  {
   "cell_type": "markdown",
   "metadata": {},
   "source": [
    "### Multiplicación por un escalar\n",
    "k debe ser un escalar\n",
    "$$\n",
    "k\n",
    "\\begin{bmatrix}\n",
    "    1 & 2 & 3  \\\\\n",
    "    5 & 8 & 9  \\\\\n",
    "\\end{bmatrix}\n",
    "=\n",
    "\\begin{bmatrix}\n",
    "    1k & 2k & 3k  \\\\\n",
    "    5k & 8k & 9k  \\\\\n",
    "\\end{bmatrix}$$"
   ]
  },
  {
   "cell_type": "code",
   "execution_count": 22,
   "metadata": {},
   "outputs": [
    {
     "data": {
      "text/plain": [
       "matrix([[1, 2, 3],\n",
       "        [5, 8, 6]])"
      ]
     },
     "execution_count": 22,
     "metadata": {},
     "output_type": "execute_result"
    }
   ],
   "source": [
    "A"
   ]
  },
  {
   "cell_type": "code",
   "execution_count": 23,
   "metadata": {},
   "outputs": [
    {
     "data": {
      "text/plain": [
       "matrix([[ 3,  6,  9],\n",
       "        [15, 24, 18]])"
      ]
     },
     "execution_count": 23,
     "metadata": {},
     "output_type": "execute_result"
    }
   ],
   "source": [
    "k=3\n",
    "k*A"
   ]
  },
  {
   "cell_type": "markdown",
   "metadata": {},
   "source": [
    "### Multiplicaciones de matrices \n",
    "El número de columnas de la primera matriz debe ser el mismo que el número de filas de la segunda matriz"
   ]
  },
  {
   "cell_type": "markdown",
   "metadata": {},
   "source": [
    "$$\\begin{bmatrix}\n",
    "    a_{1,1} & a_{1,2}  \\\\\n",
    "    a_{2,1} & a_{2,2}  \\\\\n",
    "\\end{bmatrix}  \n",
    "\\begin{bmatrix}\n",
    "    b_{1,1} & b_{1,2}   \\\\\n",
    "    b_{2,1} & b_{2,2}  \\\\\n",
    "\\end{bmatrix}  \n",
    "= \n",
    "\\begin{bmatrix}\n",
    "    c_{1,1} & c_{1,2}  \\\\\n",
    "    c_{2,1} & c_{2,2}  \\\\\n",
    "\\end{bmatrix} \n",
    " $$\n",
    " donde:\n",
    " $$ c_{1,1} = a_{1,1}b_{1,1} + a_{1,2}b_{2,1} $$\n",
    " $$ \\vdots $$"
   ]
  },
  {
   "cell_type": "code",
   "execution_count": 24,
   "metadata": {},
   "outputs": [
    {
     "name": "stdout",
     "output_type": "stream",
     "text": [
      "(2, 3)\n",
      "(2, 3)\n"
     ]
    }
   ],
   "source": [
    "print(A.shape)\n",
    "print(B.shape)"
   ]
  },
  {
   "cell_type": "code",
   "execution_count": 25,
   "metadata": {},
   "outputs": [
    {
     "data": {
      "text/plain": [
       "matrix([[0, 0, 3, 1, 3],\n",
       "        [1, 0, 6, 5, 0],\n",
       "        [6, 1, 5, 8, 5],\n",
       "        [9, 2, 9, 5, 3],\n",
       "        [4, 2, 8, 5, 9]])"
      ]
     },
     "execution_count": 25,
     "metadata": {},
     "output_type": "execute_result"
    }
   ],
   "source": [
    "X = np.matrix(np.random.randint(0, 10 , (5,5)))\n",
    "X"
   ]
  },
  {
   "cell_type": "code",
   "execution_count": 26,
   "metadata": {},
   "outputs": [
    {
     "data": {
      "text/plain": [
       "matrix([[3, 2, 5, 9, 8],\n",
       "        [2, 8, 4, 8, 3],\n",
       "        [1, 1, 8, 5, 9],\n",
       "        [3, 1, 0, 7, 2],\n",
       "        [8, 2, 2, 8, 6]])"
      ]
     },
     "execution_count": 26,
     "metadata": {},
     "output_type": "execute_result"
    }
   ],
   "source": [
    "Y = np.matrix(np.random.randint(0, 10 , (5,5)))\n",
    "Y"
   ]
  },
  {
   "cell_type": "code",
   "execution_count": 27,
   "metadata": {
    "scrolled": false
   },
   "outputs": [
    {
     "data": {
      "text/plain": [
       "matrix([[ 30,  10,  30,  46,  47],\n",
       "        [ 24,  13,  53,  74,  72],\n",
       "        [ 89,  43,  84, 183, 142],\n",
       "        [ 79,  54, 131, 201, 187],\n",
       "        [111,  55, 110, 199, 174]])"
      ]
     },
     "execution_count": 27,
     "metadata": {},
     "output_type": "execute_result"
    }
   ],
   "source": [
    "X*Y"
   ]
  },
  {
   "cell_type": "markdown",
   "metadata": {},
   "source": [
    "##### Transponiendo matrices"
   ]
  },
  {
   "cell_type": "code",
   "execution_count": 28,
   "metadata": {},
   "outputs": [],
   "source": [
    "#.T , .transpose()"
   ]
  },
  {
   "cell_type": "markdown",
   "metadata": {},
   "source": [
    "##### Tener mucho cuidado con el tipo de dato con el que se esta operando\n",
    "$$@ != * != np.dot()$$"
   ]
  },
  {
   "cell_type": "code",
   "execution_count": 29,
   "metadata": {},
   "outputs": [],
   "source": [
    "J = np.random.randint(0, 10 , (5,5))\n",
    "K = np.random.randint(0, 10 , (5,5))"
   ]
  },
  {
   "cell_type": "code",
   "execution_count": 30,
   "metadata": {
    "scrolled": true
   },
   "outputs": [
    {
     "data": {
      "text/plain": [
       "array([[6, 1, 1, 1, 7],\n",
       "       [9, 1, 3, 8, 3],\n",
       "       [8, 8, 7, 2, 7],\n",
       "       [4, 7, 1, 9, 3],\n",
       "       [3, 0, 0, 9, 4]])"
      ]
     },
     "execution_count": 30,
     "metadata": {},
     "output_type": "execute_result"
    }
   ],
   "source": [
    "J"
   ]
  },
  {
   "cell_type": "code",
   "execution_count": 31,
   "metadata": {},
   "outputs": [
    {
     "data": {
      "text/plain": [
       "array([[1, 5, 1, 9, 8],\n",
       "       [8, 2, 7, 7, 0],\n",
       "       [4, 2, 3, 7, 2],\n",
       "       [2, 1, 3, 1, 4],\n",
       "       [5, 7, 0, 7, 2]])"
      ]
     },
     "execution_count": 31,
     "metadata": {},
     "output_type": "execute_result"
    }
   ],
   "source": [
    "K"
   ]
  },
  {
   "cell_type": "code",
   "execution_count": 32,
   "metadata": {},
   "outputs": [
    {
     "data": {
      "text/plain": [
       "array([[ 55,  84,  19, 118,  68],\n",
       "       [ 60,  82,  49, 138, 116],\n",
       "       [139, 121,  91, 228, 100],\n",
       "       [ 97,  66,  83, 122,  76],\n",
       "       [ 41,  52,  30,  64,  68]])"
      ]
     },
     "execution_count": 32,
     "metadata": {},
     "output_type": "execute_result"
    }
   ],
   "source": [
    "J@K"
   ]
  },
  {
   "cell_type": "code",
   "execution_count": 33,
   "metadata": {},
   "outputs": [
    {
     "data": {
      "text/plain": [
       "30"
      ]
     },
     "execution_count": 33,
     "metadata": {},
     "output_type": "execute_result"
    }
   ],
   "source": [
    "suma = 0\n",
    "for i in range(5):\n",
    "    suma += J[4,i]*K[i,2]\n",
    "suma"
   ]
  },
  {
   "cell_type": "code",
   "execution_count": 34,
   "metadata": {
    "scrolled": false
   },
   "outputs": [
    {
     "data": {
      "text/plain": [
       "array([[ 55,  84,  19, 118,  68],\n",
       "       [ 60,  82,  49, 138, 116],\n",
       "       [139, 121,  91, 228, 100],\n",
       "       [ 97,  66,  83, 122,  76],\n",
       "       [ 41,  52,  30,  64,  68]])"
      ]
     },
     "execution_count": 34,
     "metadata": {},
     "output_type": "execute_result"
    }
   ],
   "source": [
    "np.dot(J,K)"
   ]
  },
  {
   "cell_type": "markdown",
   "metadata": {},
   "source": [
    "## Array NO ES IGUAL a matriz"
   ]
  },
  {
   "cell_type": "markdown",
   "metadata": {},
   "source": [
    "##### Inversa de la matriz"
   ]
  },
  {
   "cell_type": "code",
   "execution_count": 35,
   "metadata": {},
   "outputs": [
    {
     "data": {
      "text/plain": [
       "array([[ 1.09393758e-01,  1.56062425e-01, -9.21368547e-02,\n",
       "         6.73769508e-02, -1.97779112e-01],\n",
       "       [ 2.89615846e-02, -3.96158463e-02, -9.30372149e-03,\n",
       "         1.55012005e-01, -1.20948379e-01],\n",
       "       [-2.24339736e-01, -6.60264106e-03,  2.06782713e-01,\n",
       "        -2.03331333e-01,  1.88175270e-01],\n",
       "       [-7.54801921e-02,  4.80192077e-03,  8.70348139e-03,\n",
       "         1.50060024e-04,  1.13145258e-01],\n",
       "       [ 8.77851140e-02, -1.27851140e-01,  4.95198079e-02,\n",
       "        -5.08703481e-02,  1.43757503e-01]])"
      ]
     },
     "execution_count": 35,
     "metadata": {},
     "output_type": "execute_result"
    }
   ],
   "source": [
    "L = np.matrix(J)\n",
    "np.linalg.inv(J)"
   ]
  },
  {
   "cell_type": "markdown",
   "metadata": {},
   "source": [
    "#### Manipulación de arrays en numpy"
   ]
  },
  {
   "cell_type": "code",
   "execution_count": 36,
   "metadata": {},
   "outputs": [],
   "source": [
    "A1 = np.random.random_sample(16)"
   ]
  },
  {
   "cell_type": "code",
   "execution_count": 37,
   "metadata": {
    "scrolled": true
   },
   "outputs": [
    {
     "data": {
      "text/plain": [
       "array([0.67632879, 0.57905296, 0.34048234, 0.08453205, 0.01150383,\n",
       "       0.70917744, 0.2524202 , 0.08410148, 0.50713795, 0.19560677,\n",
       "       0.97267563, 0.61205987, 0.48136211, 0.93661566, 0.05740775,\n",
       "       0.8795983 ])"
      ]
     },
     "execution_count": 37,
     "metadata": {},
     "output_type": "execute_result"
    }
   ],
   "source": [
    "A1"
   ]
  },
  {
   "cell_type": "code",
   "execution_count": 38,
   "metadata": {},
   "outputs": [
    {
     "data": {
      "text/plain": [
       "array([[0.67632879, 0.01150383, 0.50713795, 0.48136211],\n",
       "       [0.57905296, 0.70917744, 0.19560677, 0.93661566],\n",
       "       [0.34048234, 0.2524202 , 0.97267563, 0.05740775],\n",
       "       [0.08453205, 0.08410148, 0.61205987, 0.8795983 ]])"
      ]
     },
     "execution_count": 38,
     "metadata": {},
     "output_type": "execute_result"
    }
   ],
   "source": [
    "A1.reshape((4,4),order=\"F\")"
   ]
  },
  {
   "cell_type": "code",
   "execution_count": 39,
   "metadata": {
    "scrolled": true
   },
   "outputs": [
    {
     "data": {
      "text/plain": [
       "array([[0.67632879, 0.57905296, 0.34048234, 0.08453205],\n",
       "       [0.01150383, 0.70917744, 0.2524202 , 0.08410148],\n",
       "       [0.50713795, 0.19560677, 0.97267563, 0.61205987],\n",
       "       [0.48136211, 0.93661566, 0.05740775, 0.8795983 ]])"
      ]
     },
     "execution_count": 39,
     "metadata": {},
     "output_type": "execute_result"
    }
   ],
   "source": [
    "A2 = A1.reshape((4,4))\n",
    "A2 # Copiar sin copy "
   ]
  },
  {
   "cell_type": "code",
   "execution_count": 40,
   "metadata": {},
   "outputs": [
    {
     "data": {
      "text/plain": [
       "array([[0.67632879, 0.57905296, 0.34048234, 0.08453205],\n",
       "       [0.01150383, 0.70917744, 0.2524202 , 0.08410148],\n",
       "       [0.50713795, 0.19560677, 0.97267563, 0.61205987],\n",
       "       [0.48136211, 0.93661566, 0.05740775, 0.8795983 ]])"
      ]
     },
     "execution_count": 40,
     "metadata": {},
     "output_type": "execute_result"
    }
   ],
   "source": [
    "A2"
   ]
  },
  {
   "cell_type": "code",
   "execution_count": 41,
   "metadata": {},
   "outputs": [
    {
     "data": {
      "text/plain": [
       "array([[0.67632879, 0.57905296, 0.34048234, 0.08453205],\n",
       "       [1.        , 1.        , 1.        , 1.        ],\n",
       "       [0.50713795, 0.19560677, 0.97267563, 0.61205987],\n",
       "       [0.48136211, 0.93661566, 0.05740775, 0.8795983 ]])"
      ]
     },
     "execution_count": 41,
     "metadata": {},
     "output_type": "execute_result"
    }
   ],
   "source": [
    "A2[1] = np.arange(1,2)\n",
    "A2"
   ]
  },
  {
   "cell_type": "markdown",
   "metadata": {},
   "source": [
    "Ampliar las matrices"
   ]
  },
  {
   "cell_type": "code",
   "execution_count": 42,
   "metadata": {},
   "outputs": [
    {
     "data": {
      "text/plain": [
       "array([[10,  2,  9,  9],\n",
       "       [ 1,  3,  7,  5],\n",
       "       [ 8,  3,  6,  7],\n",
       "       [ 3,  8,  6,  6]])"
      ]
     },
     "execution_count": 42,
     "metadata": {},
     "output_type": "execute_result"
    }
   ],
   "source": [
    "A3 = np.random.randint(1,11,(4,4))\n",
    "A3"
   ]
  },
  {
   "cell_type": "code",
   "execution_count": 43,
   "metadata": {},
   "outputs": [],
   "source": [
    "#np.?stack()"
   ]
  },
  {
   "cell_type": "code",
   "execution_count": 44,
   "metadata": {
    "scrolled": true
   },
   "outputs": [
    {
     "data": {
      "text/plain": [
       "array([0.67632879, 0.57905296, 0.34048234, 0.08453205, 1.        ,\n",
       "       1.        , 1.        , 1.        , 0.50713795, 0.19560677,\n",
       "       0.97267563, 0.61205987, 0.48136211, 0.93661566, 0.05740775,\n",
       "       0.8795983 ])"
      ]
     },
     "execution_count": 44,
     "metadata": {},
     "output_type": "execute_result"
    }
   ],
   "source": [
    "A2.flatten()"
   ]
  },
  {
   "cell_type": "markdown",
   "metadata": {},
   "source": [
    "max, min, sum, mean, std, argmax, argmin"
   ]
  },
  {
   "cell_type": "code",
   "execution_count": null,
   "metadata": {},
   "outputs": [],
   "source": []
  },
  {
   "cell_type": "markdown",
   "metadata": {},
   "source": [
    "Condiciones lógicas y máscaras"
   ]
  },
  {
   "cell_type": "code",
   "execution_count": 45,
   "metadata": {
    "scrolled": true
   },
   "outputs": [],
   "source": [
    "#A2 < 1 "
   ]
  },
  {
   "cell_type": "markdown",
   "metadata": {},
   "source": [
    "## Ejercicio 1\n",
    "![alt-text](img/ajedrez.png)"
   ]
  },
  {
   "cell_type": "markdown",
   "metadata": {},
   "source": [
    "Crea una _**array**_ de numpy que simule un tablero de ajedrez en la posición inicial, con las siguientes características: \n",
    "* casillas blancas con \"W\"\n",
    "* casillas negras como \"B\".\n",
    "* además los peones con \"P\", torres con \"T\", caballos con \"C\", alfiles con \"A\", reina con \"Q\" y rey con \"R\". (Aquellas casillas donde existan piezas no es necesario que se muestre el color) \n"
   ]
  },
  {
   "cell_type": "code",
   "execution_count": 46,
   "metadata": {},
   "outputs": [],
   "source": [
    "#ISML-W1-E1 No borrar esta línea!\n",
    "#####################################\n",
    "#tu código aquí\n",
    "\n",
    "\n",
    "\n",
    "#####################################"
   ]
  },
  {
   "cell_type": "markdown",
   "metadata": {},
   "source": [
    "### Ejercicio 2\n",
    "Resuelve el siguiente sistema de ecuaciones con **operaciones matriciales** en numpy.  "
   ]
  },
  {
   "cell_type": "markdown",
   "metadata": {},
   "source": [
    "$$\n",
    "\\left.\n",
    "\\begin{array}{rcl}\n",
    "     4x+8y-z & = & -1\n",
    "  \\\\ x-2y +z & = & 5\n",
    "  \\\\ 3x+2y+2z & = & 12\n",
    "\\end{array}\n",
    "\\right\\}\n",
    "$$"
   ]
  },
  {
   "cell_type": "code",
   "execution_count": 47,
   "metadata": {},
   "outputs": [],
   "source": [
    "#ISML-W1-E2 No borrar esta línea!\n",
    "#####################################\n",
    "#tu código aquí\n",
    "\n",
    "\n",
    "\n",
    "#####################################"
   ]
  },
  {
   "cell_type": "markdown",
   "metadata": {},
   "source": [
    "[![alt-text](img/cdd-lp-gray.png)](https://www.facebook.com/ccd.bolivia.bo/)"
   ]
  }
 ],
 "metadata": {
  "kernelspec": {
   "display_name": "Python 3",
   "language": "python",
   "name": "python3"
  },
  "language_info": {
   "codemirror_mode": {
    "name": "ipython",
    "version": 3
   },
   "file_extension": ".py",
   "mimetype": "text/x-python",
   "name": "python",
   "nbconvert_exporter": "python",
   "pygments_lexer": "ipython3",
   "version": "3.6.3"
  }
 },
 "nbformat": 4,
 "nbformat_minor": 2
}
