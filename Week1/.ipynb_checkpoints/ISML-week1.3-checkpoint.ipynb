{
 "cells": [
  {
   "cell_type": "markdown",
   "metadata": {},
   "source": [
    "[![alt-text](img/LP-School-Of-AI-black.png)](https://www.facebook.com/groups/1204328906374103/)"
   ]
  },
  {
   "cell_type": "markdown",
   "metadata": {},
   "source": [
    "# Introducción a Statistical Machine Learning\n",
    "## Semana I: Python para Machine Learning y Ciencia de datos \n",
    "por: [Marco Antonio Vino](https://www.linkedin.com/in/mavino)\n",
    "### 1.3 Una imagen vale más que mil palabras (?)"
   ]
  },
  {
   "cell_type": "markdown",
   "metadata": {},
   "source": [
    "[![alt-text](img/matplotlib.png)](https://matplotlib.org/index.html)"
   ]
  },
  {
   "cell_type": "markdown",
   "metadata": {},
   "source": [
    "* Estandar de facto para visualización en Python\n",
    "* Integrando con otras librerias como pandas\n"
   ]
  },
  {
   "cell_type": "markdown",
   "metadata": {},
   "source": [
    "Importanto las librerias"
   ]
  },
  {
   "cell_type": "code",
   "execution_count": 1,
   "metadata": {},
   "outputs": [],
   "source": [
    "import numpy as np\n",
    "import pandas as pd\n",
    "import matplotlib.pyplot as plt"
   ]
  },
  {
   "cell_type": "markdown",
   "metadata": {},
   "source": [
    "![alt-text](img/furypanda.gif)"
   ]
  },
  {
   "cell_type": "code",
   "execution_count": 2,
   "metadata": {
    "scrolled": true
   },
   "outputs": [
    {
     "data": {
      "text/html": [
       "<div>\n",
       "<style scoped>\n",
       "    .dataframe tbody tr th:only-of-type {\n",
       "        vertical-align: middle;\n",
       "    }\n",
       "\n",
       "    .dataframe tbody tr th {\n",
       "        vertical-align: top;\n",
       "    }\n",
       "\n",
       "    .dataframe thead th {\n",
       "        text-align: right;\n",
       "    }\n",
       "</style>\n",
       "<table border=\"1\" class=\"dataframe\">\n",
       "  <thead>\n",
       "    <tr style=\"text-align: right;\">\n",
       "      <th></th>\n",
       "      <th>Marca temporal</th>\n",
       "      <th>Unnamed: 0</th>\n",
       "      <th>Marca temporal.1</th>\n",
       "      <th>Nombre(s)</th>\n",
       "      <th>Apellidos</th>\n",
       "      <th>Estudios</th>\n",
       "      <th>Universidad</th>\n",
       "      <th>¿Puedes realizar derivadas en varias variables?</th>\n",
       "      <th>¿Puedes realizar operaciones algebraicas con matrices?</th>\n",
       "      <th>¿Sabes programar en algún lenguaje con la habilidad de hacer bucles, condiciones y funciones?</th>\n",
       "      <th>¿Qué quisieras hacer con los conocimientos que adquirirás en el curso?</th>\n",
       "      <th>¿Por qué te consideras un buen candidato para el curso?</th>\n",
       "      <th>Status</th>\n",
       "    </tr>\n",
       "  </thead>\n",
       "  <tbody>\n",
       "    <tr>\n",
       "      <th>0</th>\n",
       "      <td>2018-09-05 10:01:59</td>\n",
       "      <td>14</td>\n",
       "      <td>2018/09/05 2:01:59 p. m. GMT-4</td>\n",
       "      <td>Ronald</td>\n",
       "      <td>ALCON</td>\n",
       "      <td>INFORMATICA</td>\n",
       "      <td>UMSA</td>\n",
       "      <td>No</td>\n",
       "      <td>Si</td>\n",
       "      <td>No</td>\n",
       "      <td>Poder crear un proyecto que incorpore lo apren...</td>\n",
       "      <td>Por que tengo conocimiento en el lenguaje de p...</td>\n",
       "      <td>1</td>\n",
       "    </tr>\n",
       "    <tr>\n",
       "      <th>1</th>\n",
       "      <td>2018-09-05 17:58:40</td>\n",
       "      <td>39</td>\n",
       "      <td>2018/09/05 9:58:40 p. m. GMT-4</td>\n",
       "      <td>Vanesa Rosario</td>\n",
       "      <td>Herrera Jimenez</td>\n",
       "      <td>ESTADISTICA</td>\n",
       "      <td>UMSA</td>\n",
       "      <td>Si</td>\n",
       "      <td>Si</td>\n",
       "      <td>Si</td>\n",
       "      <td>Introducirme a la inteligencia y trabajar en p...</td>\n",
       "      <td>Tengo un perfil bueno estudio informatica y te...</td>\n",
       "      <td>-1</td>\n",
       "    </tr>\n",
       "    <tr>\n",
       "      <th>2</th>\n",
       "      <td>2018-09-07 14:02:55</td>\n",
       "      <td>72</td>\n",
       "      <td>2018/09/07 6:02:55 p. m. GMT-4</td>\n",
       "      <td>Elvis Edison</td>\n",
       "      <td>Choque Sanchez</td>\n",
       "      <td>INFORMATICA</td>\n",
       "      <td>UMSA</td>\n",
       "      <td>No</td>\n",
       "      <td>Si</td>\n",
       "      <td>Si</td>\n",
       "      <td>Analizar grandes volumenes de datos</td>\n",
       "      <td>porque, me llama mucho la atencion de la infor...</td>\n",
       "      <td>0</td>\n",
       "    </tr>\n",
       "    <tr>\n",
       "      <th>3</th>\n",
       "      <td>2018-09-07 10:08:47</td>\n",
       "      <td>70</td>\n",
       "      <td>2018/09/07 2:08:47 p. m. GMT-4</td>\n",
       "      <td>Miguel Angel</td>\n",
       "      <td>Castillo Uscamayta</td>\n",
       "      <td>ING SISTEMAS</td>\n",
       "      <td>UCB</td>\n",
       "      <td>Si</td>\n",
       "      <td>Si</td>\n",
       "      <td>Si</td>\n",
       "      <td>Aplicarlos en proyectos en mi lugar de trabajo...</td>\n",
       "      <td>Tengo 22 anos de experiencia en TI, vengo ya t...</td>\n",
       "      <td>0</td>\n",
       "    </tr>\n",
       "    <tr>\n",
       "      <th>4</th>\n",
       "      <td>2018-09-05 12:13:01</td>\n",
       "      <td>23</td>\n",
       "      <td>2018/09/05 4:13:01 p. m. GMT-4</td>\n",
       "      <td>Brigith kasandra</td>\n",
       "      <td>Ibanez Torrez</td>\n",
       "      <td>INFORMATICA</td>\n",
       "      <td>UMSA</td>\n",
       "      <td>Si</td>\n",
       "      <td>Si</td>\n",
       "      <td>Si</td>\n",
       "      <td>Desarrollar :v</td>\n",
       "      <td>Disponibilidad y conocimiento</td>\n",
       "      <td>1</td>\n",
       "    </tr>\n",
       "  </tbody>\n",
       "</table>\n",
       "</div>"
      ],
      "text/plain": [
       "        Marca temporal  Unnamed: 0                Marca temporal.1  \\\n",
       "0  2018-09-05 10:01:59          14  2018/09/05 2:01:59 p. m. GMT-4   \n",
       "1  2018-09-05 17:58:40          39  2018/09/05 9:58:40 p. m. GMT-4   \n",
       "2  2018-09-07 14:02:55          72  2018/09/07 6:02:55 p. m. GMT-4   \n",
       "3  2018-09-07 10:08:47          70  2018/09/07 2:08:47 p. m. GMT-4   \n",
       "4  2018-09-05 12:13:01          23  2018/09/05 4:13:01 p. m. GMT-4   \n",
       "\n",
       "          Nombre(s)           Apellidos      Estudios Universidad   \\\n",
       "0           Ronald                ALCON   INFORMATICA         UMSA   \n",
       "1    Vanesa Rosario     Herrera Jimenez   ESTADISTICA         UMSA   \n",
       "2      Elvis Edison      Choque Sanchez   INFORMATICA         UMSA   \n",
       "3      Miguel Angel  Castillo Uscamayta  ING SISTEMAS          UCB   \n",
       "4  Brigith kasandra       Ibanez Torrez   INFORMATICA         UMSA   \n",
       "\n",
       "  ¿Puedes realizar derivadas en varias variables?  \\\n",
       "0                                              No   \n",
       "1                                              Si   \n",
       "2                                              No   \n",
       "3                                              Si   \n",
       "4                                              Si   \n",
       "\n",
       "  ¿Puedes realizar operaciones algebraicas con matrices?  \\\n",
       "0                                                 Si       \n",
       "1                                                 Si       \n",
       "2                                                 Si       \n",
       "3                                                 Si       \n",
       "4                                                 Si       \n",
       "\n",
       "  ¿Sabes programar en algún lenguaje con la habilidad de hacer bucles, condiciones y funciones?  \\\n",
       "0                                                 No                                              \n",
       "1                                                 Si                                              \n",
       "2                                                 Si                                              \n",
       "3                                                 Si                                              \n",
       "4                                                 Si                                              \n",
       "\n",
       "  ¿Qué quisieras hacer con los conocimientos que adquirirás en el curso?  \\\n",
       "0  Poder crear un proyecto que incorpore lo apren...                       \n",
       "1  Introducirme a la inteligencia y trabajar en p...                       \n",
       "2                Analizar grandes volumenes de datos                       \n",
       "3  Aplicarlos en proyectos en mi lugar de trabajo...                       \n",
       "4                                    Desarrollar :v                        \n",
       "\n",
       "  ¿Por qué te consideras un buen candidato para el curso?  Status  \n",
       "0  Por que tengo conocimiento en el lenguaje de p...            1  \n",
       "1  Tengo un perfil bueno estudio informatica y te...           -1  \n",
       "2  porque, me llama mucho la atencion de la infor...            0  \n",
       "3  Tengo 22 anos de experiencia en TI, vengo ya t...            0  \n",
       "4                      Disponibilidad y conocimiento            1  "
      ]
     },
     "execution_count": 2,
     "metadata": {},
     "output_type": "execute_result"
    }
   ],
   "source": [
    "Muestra = pd.read_csv(\"database/muestra.csv\")\n",
    "Muestra.head()"
   ]
  },
  {
   "cell_type": "code",
   "execution_count": 3,
   "metadata": {
    "scrolled": true
   },
   "outputs": [
    {
     "data": {
      "text/plain": [
       "<matplotlib.axes._subplots.AxesSubplot at 0x7f703cb28a20>"
      ]
     },
     "execution_count": 3,
     "metadata": {},
     "output_type": "execute_result"
    },
    {
     "data": {
      "image/png": "[encoded data removed]",
      "text/plain": [
       "<Figure size 432x288 with 1 Axes>"
      ]
     },
     "metadata": {},
     "output_type": "display_data"
    }
   ],
   "source": [
    "%matplotlib inline\n",
    "Muestra.Status.plot.hist()"
   ]
  },
  {
   "cell_type": "code",
   "execution_count": 4,
   "metadata": {},
   "outputs": [
    {
     "data": {
      "text/plain": [
       "<matplotlib.axes._subplots.AxesSubplot at 0x7f703ca7e860>"
      ]
     },
     "execution_count": 4,
     "metadata": {},
     "output_type": "execute_result"
    },
    {
     "data": {
      "image/png": "[encoded data removed]",
      "text/plain": [
       "<Figure size 432x288 with 1 Axes>"
      ]
     },
     "metadata": {},
     "output_type": "display_data"
    }
   ],
   "source": [
    "Muestra.Estudios.value_counts().plot(kind='hist')"
   ]
  },
  {
   "cell_type": "code",
   "execution_count": 5,
   "metadata": {
    "scrolled": true
   },
   "outputs": [
    {
     "data": {
      "text/plain": [
       "<matplotlib.axes._subplots.AxesSubplot at 0x7f703c9f7e48>"
      ]
     },
     "execution_count": 5,
     "metadata": {},
     "output_type": "execute_result"
    },
    {
     "data": {
      "image/png": "[encoded data removed]",
      "text/plain": [
       "<Figure size 432x288 with 1 Axes>"
      ]
     },
     "metadata": {},
     "output_type": "display_data"
    }
   ],
   "source": [
    "Muestra.Estudios.value_counts().plot(kind='pie')"
   ]
  },
  {
   "cell_type": "code",
   "execution_count": 6,
   "metadata": {},
   "outputs": [
    {
     "data": {
      "text/plain": [
       "<matplotlib.axes._subplots.AxesSubplot at 0x7f703c9d9c50>"
      ]
     },
     "execution_count": 6,
     "metadata": {},
     "output_type": "execute_result"
    },
    {
     "data": {
      "image/png": "[encoded data removed]",
      "text/plain": [
       "<Figure size 432x288 with 1 Axes>"
      ]
     },
     "metadata": {},
     "output_type": "display_data"
    }
   ],
   "source": [
    "Muestra[\"Calificaciones\"] = np.random.randint(0,100,Muestra.shape[0])\n",
    "Muestra[\"Calificaciones\"].plot(color=\"green\") #tipos de datos "
   ]
  },
  {
   "cell_type": "markdown",
   "metadata": {},
   "source": [
    "### Pyplot "
   ]
  },
  {
   "cell_type": "markdown",
   "metadata": {},
   "source": [
    "Trabajamos sobre listas o arrays, 1, 2, 3 d"
   ]
  },
  {
   "cell_type": "code",
   "execution_count": 7,
   "metadata": {
    "scrolled": true
   },
   "outputs": [],
   "source": [
    "s1 = np.random.randn(100)*10"
   ]
  },
  {
   "cell_type": "code",
   "execution_count": 8,
   "metadata": {
    "scrolled": true
   },
   "outputs": [
    {
     "data": {
      "text/plain": [
       "' trabajando sobre una dimension \\nasume que la segunda,b son el orden de los datos\\n'"
      ]
     },
     "execution_count": 8,
     "metadata": {},
     "output_type": "execute_result"
    },
    {
     "data": {
      "image/png": "[encoded data removed]",
      "text/plain": [
       "<Figure size 432x288 with 1 Axes>"
      ]
     },
     "metadata": {},
     "output_type": "display_data"
    }
   ],
   "source": [
    "plt.plot(s1, color=\"red\")  \n",
    "\"\"\" trabajando sobre una dimension \n",
    "asume que la segunda,b son el orden de los datos\n",
    "\"\"\""
   ]
  },
  {
   "cell_type": "code",
   "execution_count": 9,
   "metadata": {
    "scrolled": false
   },
   "outputs": [
    {
     "data": {
      "text/plain": [
       "<matplotlib.collections.PathCollection at 0x7f703c8be278>"
      ]
     },
     "execution_count": 9,
     "metadata": {},
     "output_type": "execute_result"
    },
    {
     "data": {
      "image/png": "[encoded data removed]",
      "text/plain": [
       "<Figure size 432x288 with 1 Axes>"
      ]
     },
     "metadata": {},
     "output_type": "display_data"
    }
   ],
   "source": [
    "s2 = np.random.randn(100)*10\n",
    "plt.scatter(s1,s2)"
   ]
  },
  {
   "cell_type": "markdown",
   "metadata": {},
   "source": [
    "### Grafiquemos funciones"
   ]
  },
  {
   "cell_type": "markdown",
   "metadata": {},
   "source": [
    "$$ z(x)= \\frac{1}{ 1 + e^{-x}}$$"
   ]
  },
  {
   "cell_type": "code",
   "execution_count": 10,
   "metadata": {
    "scrolled": false
   },
   "outputs": [],
   "source": [
    "def sigmoide(x):\n",
    "    return 1/( 1 + np.exp(-x))"
   ]
  },
  {
   "cell_type": "code",
   "execution_count": 11,
   "metadata": {},
   "outputs": [],
   "source": [
    "x = np.linspace(-10,10)"
   ]
  },
  {
   "cell_type": "code",
   "execution_count": 12,
   "metadata": {
    "scrolled": true
   },
   "outputs": [
    {
     "data": {
      "text/plain": [
       "[<matplotlib.lines.Line2D at 0x7f703c891ba8>]"
      ]
     },
     "execution_count": 12,
     "metadata": {},
     "output_type": "execute_result"
    },
    {
     "data": {
      "image/png": "[encoded data removed]",
      "text/plain": [
       "<Figure size 432x288 with 1 Axes>"
      ]
     },
     "metadata": {},
     "output_type": "display_data"
    }
   ],
   "source": [
    "plt.plot(x,sigmoide(x), label=\"$sigmoide(x)$\")\n",
    "#plt.xlabel(\"X\")\n",
    "#plt.ylabel(\"$f(x)$\")\n",
    "#plt.legend()"
   ]
  },
  {
   "cell_type": "markdown",
   "metadata": {},
   "source": [
    " \n",
    "    "
   ]
  },
  {
   "cell_type": "markdown",
   "metadata": {},
   "source": [
    " \n",
    "    "
   ]
  },
  {
   "cell_type": "markdown",
   "metadata": {},
   "source": [
    " \n",
    "    "
   ]
  },
  {
   "cell_type": "markdown",
   "metadata": {},
   "source": [
    " \n",
    "    "
   ]
  },
  {
   "cell_type": "markdown",
   "metadata": {},
   "source": [
    "![alt-text](img/onions.gif)"
   ]
  },
  {
   "cell_type": "markdown",
   "metadata": {},
   "source": [
    " \n",
    "    "
   ]
  },
  {
   "cell_type": "markdown",
   "metadata": {},
   "source": [
    " \n",
    "    "
   ]
  },
  {
   "cell_type": "markdown",
   "metadata": {},
   "source": [
    " \n",
    "    "
   ]
  },
  {
   "cell_type": "markdown",
   "metadata": {},
   "source": [
    " \n",
    "    "
   ]
  },
  {
   "cell_type": "markdown",
   "metadata": {},
   "source": [
    " \n",
    "    "
   ]
  },
  {
   "cell_type": "markdown",
   "metadata": {},
   "source": [
    "# Matplotlib es como las cebollas, tiene capas. "
   ]
  },
  {
   "cell_type": "markdown",
   "metadata": {},
   "source": [
    " \n",
    "    "
   ]
  },
  {
   "cell_type": "markdown",
   "metadata": {},
   "source": [
    "* Tiene 2 elemtos principales\n",
    "    * Fig\n",
    "    * Axes\n",
    "    "
   ]
  },
  {
   "cell_type": "markdown",
   "metadata": {},
   "source": [
    " \n",
    "    "
   ]
  },
  {
   "cell_type": "code",
   "execution_count": 13,
   "metadata": {},
   "outputs": [],
   "source": [
    "#fig, axes = plt.subplots()\n",
    "#axes.plot(x,g(x))\n",
    "#type(fig)"
   ]
  },
  {
   "cell_type": "code",
   "execution_count": 14,
   "metadata": {},
   "outputs": [
    {
     "data": {
      "text/plain": [
       "array([[<matplotlib.axes._subplots.AxesSubplot object at 0x7f703c847b00>,\n",
       "        <matplotlib.axes._subplots.AxesSubplot object at 0x7f703c7f9160>],\n",
       "       [<matplotlib.axes._subplots.AxesSubplot object at 0x7f703c7a37f0>,\n",
       "        <matplotlib.axes._subplots.AxesSubplot object at 0x7f703c7c9e80>]],\n",
       "      dtype=object)"
      ]
     },
     "execution_count": 14,
     "metadata": {},
     "output_type": "execute_result"
    },
    {
     "data": {
      "image/png": "[encoded data removed]",
      "text/plain": [
       "<Figure size 432x288 with 4 Axes>"
      ]
     },
     "metadata": {},
     "output_type": "display_data"
    }
   ],
   "source": [
    "fig1, axes1 = plt.subplots(2,2)\n",
    "axes1"
   ]
  },
  {
   "cell_type": "markdown",
   "metadata": {},
   "source": [
    "# Trabajemos sobre nuestros datos"
   ]
  },
  {
   "cell_type": "code",
   "execution_count": 15,
   "metadata": {},
   "outputs": [
    {
     "data": {
      "text/html": [
       "<div>\n",
       "<style scoped>\n",
       "    .dataframe tbody tr th:only-of-type {\n",
       "        vertical-align: middle;\n",
       "    }\n",
       "\n",
       "    .dataframe tbody tr th {\n",
       "        vertical-align: top;\n",
       "    }\n",
       "\n",
       "    .dataframe thead th {\n",
       "        text-align: right;\n",
       "    }\n",
       "</style>\n",
       "<table border=\"1\" class=\"dataframe\">\n",
       "  <thead>\n",
       "    <tr style=\"text-align: right;\">\n",
       "      <th></th>\n",
       "      <th>Marca temporal</th>\n",
       "      <th>Unnamed: 0</th>\n",
       "      <th>Marca temporal.1</th>\n",
       "      <th>Nombre(s)</th>\n",
       "      <th>Apellidos</th>\n",
       "      <th>Estudios</th>\n",
       "      <th>Universidad</th>\n",
       "      <th>¿Puedes realizar derivadas en varias variables?</th>\n",
       "      <th>¿Puedes realizar operaciones algebraicas con matrices?</th>\n",
       "      <th>¿Sabes programar en algún lenguaje con la habilidad de hacer bucles, condiciones y funciones?</th>\n",
       "      <th>¿Qué quisieras hacer con los conocimientos que adquirirás en el curso?</th>\n",
       "      <th>¿Por qué te consideras un buen candidato para el curso?</th>\n",
       "      <th>Status</th>\n",
       "      <th>Calificaciones</th>\n",
       "    </tr>\n",
       "  </thead>\n",
       "  <tbody>\n",
       "    <tr>\n",
       "      <th>0</th>\n",
       "      <td>2018-09-05 10:01:59</td>\n",
       "      <td>14</td>\n",
       "      <td>2018/09/05 2:01:59 p. m. GMT-4</td>\n",
       "      <td>Ronald</td>\n",
       "      <td>ALCON</td>\n",
       "      <td>INFORMATICA</td>\n",
       "      <td>UMSA</td>\n",
       "      <td>No</td>\n",
       "      <td>Si</td>\n",
       "      <td>No</td>\n",
       "      <td>Poder crear un proyecto que incorpore lo apren...</td>\n",
       "      <td>Por que tengo conocimiento en el lenguaje de p...</td>\n",
       "      <td>1</td>\n",
       "      <td>11</td>\n",
       "    </tr>\n",
       "    <tr>\n",
       "      <th>1</th>\n",
       "      <td>2018-09-05 17:58:40</td>\n",
       "      <td>39</td>\n",
       "      <td>2018/09/05 9:58:40 p. m. GMT-4</td>\n",
       "      <td>Vanesa Rosario</td>\n",
       "      <td>Herrera Jimenez</td>\n",
       "      <td>ESTADISTICA</td>\n",
       "      <td>UMSA</td>\n",
       "      <td>Si</td>\n",
       "      <td>Si</td>\n",
       "      <td>Si</td>\n",
       "      <td>Introducirme a la inteligencia y trabajar en p...</td>\n",
       "      <td>Tengo un perfil bueno estudio informatica y te...</td>\n",
       "      <td>-1</td>\n",
       "      <td>75</td>\n",
       "    </tr>\n",
       "    <tr>\n",
       "      <th>2</th>\n",
       "      <td>2018-09-07 14:02:55</td>\n",
       "      <td>72</td>\n",
       "      <td>2018/09/07 6:02:55 p. m. GMT-4</td>\n",
       "      <td>Elvis Edison</td>\n",
       "      <td>Choque Sanchez</td>\n",
       "      <td>INFORMATICA</td>\n",
       "      <td>UMSA</td>\n",
       "      <td>No</td>\n",
       "      <td>Si</td>\n",
       "      <td>Si</td>\n",
       "      <td>Analizar grandes volumenes de datos</td>\n",
       "      <td>porque, me llama mucho la atencion de la infor...</td>\n",
       "      <td>0</td>\n",
       "      <td>76</td>\n",
       "    </tr>\n",
       "    <tr>\n",
       "      <th>3</th>\n",
       "      <td>2018-09-07 10:08:47</td>\n",
       "      <td>70</td>\n",
       "      <td>2018/09/07 2:08:47 p. m. GMT-4</td>\n",
       "      <td>Miguel Angel</td>\n",
       "      <td>Castillo Uscamayta</td>\n",
       "      <td>ING SISTEMAS</td>\n",
       "      <td>UCB</td>\n",
       "      <td>Si</td>\n",
       "      <td>Si</td>\n",
       "      <td>Si</td>\n",
       "      <td>Aplicarlos en proyectos en mi lugar de trabajo...</td>\n",
       "      <td>Tengo 22 anos de experiencia en TI, vengo ya t...</td>\n",
       "      <td>0</td>\n",
       "      <td>1</td>\n",
       "    </tr>\n",
       "    <tr>\n",
       "      <th>4</th>\n",
       "      <td>2018-09-05 12:13:01</td>\n",
       "      <td>23</td>\n",
       "      <td>2018/09/05 4:13:01 p. m. GMT-4</td>\n",
       "      <td>Brigith kasandra</td>\n",
       "      <td>Ibanez Torrez</td>\n",
       "      <td>INFORMATICA</td>\n",
       "      <td>UMSA</td>\n",
       "      <td>Si</td>\n",
       "      <td>Si</td>\n",
       "      <td>Si</td>\n",
       "      <td>Desarrollar :v</td>\n",
       "      <td>Disponibilidad y conocimiento</td>\n",
       "      <td>1</td>\n",
       "      <td>90</td>\n",
       "    </tr>\n",
       "  </tbody>\n",
       "</table>\n",
       "</div>"
      ],
      "text/plain": [
       "        Marca temporal  Unnamed: 0                Marca temporal.1  \\\n",
       "0  2018-09-05 10:01:59          14  2018/09/05 2:01:59 p. m. GMT-4   \n",
       "1  2018-09-05 17:58:40          39  2018/09/05 9:58:40 p. m. GMT-4   \n",
       "2  2018-09-07 14:02:55          72  2018/09/07 6:02:55 p. m. GMT-4   \n",
       "3  2018-09-07 10:08:47          70  2018/09/07 2:08:47 p. m. GMT-4   \n",
       "4  2018-09-05 12:13:01          23  2018/09/05 4:13:01 p. m. GMT-4   \n",
       "\n",
       "          Nombre(s)           Apellidos      Estudios Universidad   \\\n",
       "0           Ronald                ALCON   INFORMATICA         UMSA   \n",
       "1    Vanesa Rosario     Herrera Jimenez   ESTADISTICA         UMSA   \n",
       "2      Elvis Edison      Choque Sanchez   INFORMATICA         UMSA   \n",
       "3      Miguel Angel  Castillo Uscamayta  ING SISTEMAS          UCB   \n",
       "4  Brigith kasandra       Ibanez Torrez   INFORMATICA         UMSA   \n",
       "\n",
       "  ¿Puedes realizar derivadas en varias variables?  \\\n",
       "0                                              No   \n",
       "1                                              Si   \n",
       "2                                              No   \n",
       "3                                              Si   \n",
       "4                                              Si   \n",
       "\n",
       "  ¿Puedes realizar operaciones algebraicas con matrices?  \\\n",
       "0                                                 Si       \n",
       "1                                                 Si       \n",
       "2                                                 Si       \n",
       "3                                                 Si       \n",
       "4                                                 Si       \n",
       "\n",
       "  ¿Sabes programar en algún lenguaje con la habilidad de hacer bucles, condiciones y funciones?  \\\n",
       "0                                                 No                                              \n",
       "1                                                 Si                                              \n",
       "2                                                 Si                                              \n",
       "3                                                 Si                                              \n",
       "4                                                 Si                                              \n",
       "\n",
       "  ¿Qué quisieras hacer con los conocimientos que adquirirás en el curso?  \\\n",
       "0  Poder crear un proyecto que incorpore lo apren...                       \n",
       "1  Introducirme a la inteligencia y trabajar en p...                       \n",
       "2                Analizar grandes volumenes de datos                       \n",
       "3  Aplicarlos en proyectos en mi lugar de trabajo...                       \n",
       "4                                    Desarrollar :v                        \n",
       "\n",
       "  ¿Por qué te consideras un buen candidato para el curso?  Status  \\\n",
       "0  Por que tengo conocimiento en el lenguaje de p...            1   \n",
       "1  Tengo un perfil bueno estudio informatica y te...           -1   \n",
       "2  porque, me llama mucho la atencion de la infor...            0   \n",
       "3  Tengo 22 anos de experiencia en TI, vengo ya t...            0   \n",
       "4                      Disponibilidad y conocimiento            1   \n",
       "\n",
       "   Calificaciones  \n",
       "0              11  \n",
       "1              75  \n",
       "2              76  \n",
       "3               1  \n",
       "4              90  "
      ]
     },
     "execution_count": 15,
     "metadata": {},
     "output_type": "execute_result"
    }
   ],
   "source": [
    "Muestra.head()"
   ]
  },
  {
   "cell_type": "code",
   "execution_count": 16,
   "metadata": {
    "scrolled": true
   },
   "outputs": [
    {
     "data": {
      "image/png": "[encoded data removed]",
      "text/plain": [
       "<Figure size 432x288 with 1 Axes>"
      ]
     },
     "metadata": {},
     "output_type": "display_data"
    }
   ],
   "source": [
    "fig2 , axes2 = plt.subplots()\n",
    "axes2.scatter(Muestra[\"Universidad \"], Muestra.Calificaciones ,c=Muestra.Calificaciones, s= Muestra.Calificaciones, cmap=plt.cm.RdYlGn)\n",
    "axes2.grid()\n",
    "for tick in axes2.get_xticklabels():\n",
    "    tick.set_rotation(45)"
   ]
  },
  {
   "cell_type": "code",
   "execution_count": 17,
   "metadata": {
    "scrolled": true
   },
   "outputs": [
    {
     "data": {
      "image/png": "[encoded data removed]",
      "text/plain": [
       "<Figure size 432x288 with 1 Axes>"
      ]
     },
     "metadata": {},
     "output_type": "display_data"
    }
   ],
   "source": [
    "fig2 , axes2 = plt.subplots()\n",
    "axes2.scatter(Muestra.Estudios, Muestra.Calificaciones ,c=Muestra.Calificaciones, s= Muestra.Calificaciones, cmap=plt.cm.RdYlGn)\n",
    "\n",
    "for tick in axes2.get_xticklabels():\n",
    "    tick.set_rotation(45)"
   ]
  },
  {
   "cell_type": "markdown",
   "metadata": {},
   "source": [
    "¿Cuántas personas han repetido su nota?"
   ]
  },
  {
   "cell_type": "code",
   "execution_count": 18,
   "metadata": {},
   "outputs": [],
   "source": [
    "Muestra[\"Parcial1\"] = np.random.randint(15,80, Muestra.shape[0])\n",
    "Muestra[\"Parcial2\"] = 0.67*Muestra[\"Parcial1\"] + np.random.randn( Muestra.shape[0])*15\n",
    "Muestra[\"Parcial3\"] = 0.67*Muestra[\"Parcial1\"] + np.random.randn( Muestra.shape[0])*15\n",
    "Muestra[\"Parcial4\"] = 0.3*Muestra[\"Parcial1\"] + np.random.randn( Muestra.shape[0])*15\n"
   ]
  },
  {
   "cell_type": "code",
   "execution_count": 19,
   "metadata": {
    "scrolled": true
   },
   "outputs": [
    {
     "data": {
      "text/plain": [
       "Text(0,0.5,'Segundo Parcial')"
      ]
     },
     "execution_count": 19,
     "metadata": {},
     "output_type": "execute_result"
    },
    {
     "data": {
      "image/png": "[encoded data removed]",
      "text/plain": [
       "<Figure size 432x288 with 2 Axes>"
      ]
     },
     "metadata": {},
     "output_type": "display_data"
    }
   ],
   "source": [
    "plt.hist2d(Muestra.Calificaciones, Muestra.Parcial1)\n",
    "plt.colorbar()\n",
    "plt.xlabel(\"Primer Parcial\")\n",
    "plt.ylabel(\"Segundo Parcial\")"
   ]
  },
  {
   "cell_type": "markdown",
   "metadata": {},
   "source": [
    "### Correlación entre las notas "
   ]
  },
  {
   "cell_type": "code",
   "execution_count": 20,
   "metadata": {},
   "outputs": [],
   "source": [
    "def plot_corr(df,size=10):\n",
    "    '''Function plots a graphical correlation matrix for each pair of columns in the dataframe.\n",
    "\n",
    "    Input:\n",
    "        df: pandas DataFrame\n",
    "        size: vertical and horizontal size of the plot'''\n",
    "    print(df.corr())\n",
    "    corr = df.corr()\n",
    "    fig, ax = plt.subplots(figsize=(size, size))\n",
    "    ax.matshow(corr,)\n",
    "    plt.xticks(range(len(corr.columns)), corr.columns);\n",
    "    plt.yticks(range(len(corr.columns)), corr.columns);"
   ]
  },
  {
   "cell_type": "markdown",
   "metadata": {},
   "source": [
    "cambiando los index"
   ]
  },
  {
   "cell_type": "code",
   "execution_count": 21,
   "metadata": {},
   "outputs": [
    {
     "name": "stdout",
     "output_type": "stream",
     "text": [
      "                Calificaciones  Parcial1  Parcial2  Parcial3  Parcial4\n",
      "Calificaciones        1.000000 -0.232586 -0.268853 -0.387011 -0.376742\n",
      "Parcial1             -0.232586  1.000000 -0.058186  0.690384  0.430511\n",
      "Parcial2             -0.268853 -0.058186  1.000000  0.070829 -0.164659\n",
      "Parcial3             -0.387011  0.690384  0.070829  1.000000  0.407247\n",
      "Parcial4             -0.376742  0.430511 -0.164659  0.407247  1.000000\n"
     ]
    },
    {
     "data": {
      "image/png": "[encoded data removed]",
      "text/plain": [
       "<Figure size 1656x1656 with 1 Axes>"
      ]
     },
     "metadata": {},
     "output_type": "display_data"
    }
   ],
   "source": [
    "plot_corr(Muestra.iloc[:,-5:], Muestra.shape[0])"
   ]
  },
  {
   "cell_type": "markdown",
   "metadata": {},
   "source": [
    "### Guardando archivo"
   ]
  },
  {
   "cell_type": "code",
   "execution_count": 22,
   "metadata": {},
   "outputs": [],
   "source": [
    "# figuras por celda"
   ]
  },
  {
   "cell_type": "code",
   "execution_count": 23,
   "metadata": {},
   "outputs": [],
   "source": [
    "# figuras como dibujo"
   ]
  },
  {
   "cell_type": "markdown",
   "metadata": {},
   "source": [
    "# Interactivo "
   ]
  },
  {
   "cell_type": "code",
   "execution_count": 24,
   "metadata": {},
   "outputs": [],
   "source": [
    "from ipywidgets import interact, interactive, fixed, interact_manual\n",
    "import ipywidgets as widgets"
   ]
  },
  {
   "cell_type": "code",
   "execution_count": 25,
   "metadata": {},
   "outputs": [],
   "source": [
    "\n",
    "x= np.arange(0,100)\n",
    "x1 = np.linspace(0,100)\n",
    "y = 3.4 + 6.7*x + np.random.randn(x.shape[0])*100\n",
    "def f(b1,b2):\n",
    "    plt.scatter(x,y)\n",
    "    plt.plot(x1, b1*50 + b2*x1, c=\"r\")\n",
    "    plt.ylim(-100,1000)"
   ]
  },
  {
   "cell_type": "code",
   "execution_count": 26,
   "metadata": {},
   "outputs": [
    {
     "data": {
      "application/vnd.jupyter.widget-view+json": {
       "model_id": "d9d44f1ebdfa4e61a2ff85ede10d66dc",
       "version_major": 2,
       "version_minor": 0
      },
      "text/plain": [
       "interactive(children=(IntSlider(value=2, description='b1', max=6, min=-2), IntSlider(value=3, description='b2'…"
      ]
     },
     "metadata": {},
     "output_type": "display_data"
    }
   ],
   "source": [
    "interact(f, b1=2, b2=3 );"
   ]
  },
  {
   "cell_type": "markdown",
   "metadata": {},
   "source": [
    "### Ejercicio 5\n",
    "En base a la información del dataframe realizar los siguientes cálculos:\n",
    "* Reliza un gráfico de torta de la distribucion de las personas con status 1 \n",
    "* Realiza un histograma de las notas de las personas de la UMSA\n",
    "* Realiza gráfica de puntos de las notas del primer parcial con las del segundo parcial. ¿Qué patrón encuentras ?"
   ]
  },
  {
   "cell_type": "code",
   "execution_count": 27,
   "metadata": {},
   "outputs": [],
   "source": [
    "#ISML-W1-E5 No borrar esta línea!\n",
    "#####################################\n",
    "#tu código aquí\n",
    "\n",
    "\n",
    "\n",
    "#####################################"
   ]
  },
  {
   "cell_type": "markdown",
   "metadata": {},
   "source": [
    "[![alt-text](img/cdd-lp-gray.png)](https://www.facebook.com/ccd.bolivia.bo/)"
   ]
  }
 ],
 "metadata": {
  "kernelspec": {
   "display_name": "Python 3",
   "language": "python",
   "name": "python3"
  },
  "language_info": {
   "codemirror_mode": {
    "name": "ipython",
    "version": 3
   },
   "file_extension": ".py",
   "mimetype": "text/x-python",
   "name": "python",
   "nbconvert_exporter": "python",
   "pygments_lexer": "ipython3",
   "version": "3.6.3"
  }
 },
 "nbformat": 4,
 "nbformat_minor": 2
}
